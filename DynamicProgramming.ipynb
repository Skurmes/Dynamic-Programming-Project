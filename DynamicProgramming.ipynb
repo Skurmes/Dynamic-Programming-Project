{
 "cells": [
  {
   "cell_type": "markdown",
   "metadata": {
    "id": "i_4QVqdV96a6"
   },
   "source": [
    "# Dynamic Programming\n",
    "\n",
    "\n",
    "\n"
   ]
  },
  {
   "cell_type": "markdown",
   "metadata": {
    "id": "woaZjkArTMAh"
   },
   "source": [
    "## Introduction/Motivation\n",
    "\n",
    "\n",
    "\n",
    "\n"
   ]
  },
  {
   "cell_type": "markdown",
   "metadata": {
    "id": "n0AD_VXnYiKq"
   },
   "source": [
    "*optimization\n",
    "*subproblem\n",
    "*recursion\n",
    "*memoization\n",
    "*bottom-up compared to top-down."
   ]
  },
  {
   "cell_type": "markdown",
   "metadata": {
    "id": "DVKCnmI8UBTG"
   },
   "source": [
    "## Theory"
   ]
  },
  {
   "cell_type": "markdown",
   "metadata": {
    "id": "5GgWvxZMYjTU",
    "tags": []
   },
   "source": [
    "Use **bold** for terms that you are defining.\n",
    "\n"
   ]
  },
  {
   "cell_type": "markdown",
   "metadata": {
    "id": "gZAnmh5LlmwX",
    "tags": []
   },
   "source": [
    "## Examples"
   ]
  },
  {
   "cell_type": "markdown",
   "metadata": {
    "id": "VXEn-1oj8CG_"
   },
   "source": [
    "### Example 1\n",
    "Example 1: Although dynamic programming focuses on optimal solutions it also takes a look at subproblems. Breaking the subproblems down and then bringing them back to solve the problem as a whole. The Rod Cutting problem shows both the breaking down of the problem and it's time complexity. "
   ]
  },
  {
   "cell_type": "markdown",
   "metadata": {
    "id": "hbqQ17BOlqGN"
   },
   "source": [
    "\n",
    "\n"
   ]
  },
  {
   "cell_type": "markdown",
   "metadata": {
    "id": "xwx5JA688Gqu"
   },
   "source": [
    "### Example 2"
   ]
  },
  {
   "cell_type": "markdown",
   "metadata": {
    "id": "UCeUiE8j8Ngm"
   },
   "source": []
  },
  {
   "cell_type": "markdown",
   "metadata": {
    "id": "fb2uZl1q_LR_"
   },
   "source": [
    "## References\n",
    "\n",
    "Cormen, Thomas H., et al. Introduction to Algorithms. 3rd ed., Massachusetts Institute of Technology, 2009, pp. 30-413.\n",
    "\n",
    "Uploaded by CS Dojo. “What Is Dynamic Programming and How to Use It.” YouTube.com, YouTube(Owned by Google), 13 Dec. 2017, www.youtube.com/watch?v=vYquumk4nWw.\n",
    "The channel owner of \"CS Dojo\" has not fully released his name most likely for privacy reasons.\n",
    "\n",
    "“Dynamic Programming - GeeksforGeeks.” GeeksforGeeks, www.geeksforgeeks.org/dynamic-programming/. Accessed 16 Sept. 2021.\n",
    "\n",
    "“Rod Cutting Problem.” Techie Delight, 29 Sept. 2021, https://www.techiedelight.com/rod-cutting/. Accessed 10 Oct. 2021."
   ]
  },
  {
   "cell_type": "markdown",
   "metadata": {
    "id": "DGC5WaH4Y98C"
   },
   "source": [
    "## Problems"
   ]
  },
  {
   "cell_type": "markdown",
   "metadata": {},
   "source": [
    "![Rod Cutting Tree](img/RodCutting.jpg)\n",
    "\n",
    "**Figure 1:** Rod Cutting Example"
   ]
  },
  {
   "cell_type": "code",
   "execution_count": 17,
   "metadata": {},
   "outputs": [
    {
     "name": "stdout",
     "output_type": "stream",
     "text": [
      "Profit is 7\n"
     ]
    }
   ],
   "source": [
    "import sys\n",
    " \n",
    " \n",
    "# Function to find the best way to cut a rod of length `n`\n",
    "# where the rod of length `i` has a cost `price[i-1]`\n",
    "def rodCut(price, n):\n",
    " \n",
    "    # base case\n",
    "    if n == 0:\n",
    "        return 0\n",
    " \n",
    "    maxValue = -sys.maxsize\n",
    " \n",
    "    # one by one, partition the given rod of length `n` into two parts of length\n",
    "    # (1, n-1), (2, n-2), (3, n-3), … ,(n-1, 1), (n, 0) and take maximum\n",
    "    for i in range(1, n + 1):\n",
    " \n",
    "        # rod of length `i` has a cost `price[i-1]`\n",
    "        cost = price[i - 1] + rodCut(price, n - i)\n",
    " \n",
    "        if cost > maxValue:\n",
    "            maxValue = cost\n",
    " \n",
    "    return maxValue\n",
    " \n",
    " \n",
    "if __name__ == '__main__':\n",
    " \n",
    "    price = [2, 5, 6]\n",
    " \n",
    "    # rod length\n",
    "    n = 3\n",
    " \n",
    "    print('Profit is', rodCut(price, n))\n",
    " \n",
    "\n"
   ]
  },
  {
   "cell_type": "markdown",
   "metadata": {
    "id": "mbMCC1ZMZAHk"
   },
   "source": [
    "Time complexity is $ O (n^n) $"
   ]
  },
  {
   "cell_type": "code",
   "execution_count": 16,
   "metadata": {
    "tags": []
   },
   "outputs": [
    {
     "name": "stdout",
     "output_type": "stream",
     "text": [
      "Maximum Obtainable Value is 7\n"
     ]
    }
   ],
   "source": [
    "# A Dynamic Programming solution for Rod cutting problem\n",
    "INT_MIN = -32767\n",
    " \n",
    "# Returns the best obtainable price for a rod of length n and\n",
    "# price[] as prices of different pieces\n",
    "def cutRod(price, n):\n",
    "    val = [0 for x in range(n+1)]\n",
    "    val[0] = 0\n",
    " \n",
    "    # Build the table val[] in bottom up manner and return\n",
    "    # the last entry from the table\n",
    "    for i in range(1, n+1):\n",
    "        maxVal = INT_MIN\n",
    "        for j in range(i):\n",
    "             maxVal = max(maxVal, price[j] + val[i-j-1])\n",
    "        val[i] = maxVal\n",
    " \n",
    "    return val[n]\n",
    " \n",
    "# Driver program to test above functions\n",
    "arr = [2, 5, 6]\n",
    "size = len(arr)\n",
    "print(\"Maximum Obtainable Value is \" + str(cutRod(arr, size)))\n",
    " "
   ]
  },
  {
   "cell_type": "markdown",
   "metadata": {
    "id": "mbMCC1ZMZAHk"
   },
   "source": [
    "Time complexity is $ O (n^2) $"
   ]
  },
  {
   "cell_type": "markdown",
   "metadata": {
    "id": "pz5xCYtbZCGZ"
   },
   "source": [
    "## Project Idea"
   ]
  },
  {
   "cell_type": "markdown",
   "metadata": {
    "id": "LrBCw5_-ZJFK"
   },
   "source": []
  },
  {
   "cell_type": "markdown",
   "metadata": {
    "id": "C8i0wsUKijeP"
   },
   "source": [
    "### Authors"
   ]
  },
  {
   "cell_type": "markdown",
   "metadata": {
    "id": "rajid0PdipzE"
   },
   "source": [
    "Principal authors of this chapter were: [N.C.Jacob](https://github.com/nurfnick), [B.Roy](https://github.com/roybibek), [D.L.Castaneda](https://github.com/DannyCR7XD), & [T.A.Wood](https://github.com/Skurmes)\n",
    "\n",
    "Contributions were made by:"
   ]
  },
  {
   "cell_type": "code",
   "execution_count": null,
   "metadata": {
    "id": "7gUn1NirlAep"
   },
   "outputs": [],
   "source": []
  },
  {
   "cell_type": "code",
   "execution_count": null,
   "metadata": {},
   "outputs": [],
   "source": []
  }
 ],
 "metadata": {
  "colab": {
   "authorship_tag": "ABX9TyNmxRjaminuBl2bOO8dGI+8",
   "include_colab_link": true,
   "name": "Untitled30.ipynb",
   "provenance": []
  },
  "kernelspec": {
   "display_name": "Python 3",
   "language": "python",
   "name": "python3"
  },
  "language_info": {
   "codemirror_mode": {
    "name": "ipython",
    "version": 3
   },
   "file_extension": ".py",
   "mimetype": "text/x-python",
   "name": "python",
   "nbconvert_exporter": "python",
   "pygments_lexer": "ipython3",
   "version": "3.8.8"
  }
 },
 "nbformat": 4,
 "nbformat_minor": 4
}
