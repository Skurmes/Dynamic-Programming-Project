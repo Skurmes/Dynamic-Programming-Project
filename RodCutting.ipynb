{
 "cells": [
  {
   "cell_type": "code",
   "execution_count": 109,
   "id": "064afb93-58e8-4cd1-8bb5-2c9e1b5455a7",
   "metadata": {},
   "outputs": [],
   "source": [
    "import sys #This is used to call max = -inf\n"
   ]
  },
  {
   "cell_type": "code",
   "execution_count": 118,
   "id": "212c1db0-f439-4994-8de6-676a6cd8e59a",
   "metadata": {},
   "outputs": [],
   "source": [
    "#Recursive function\n",
    "def RodCutting(length, price):\n",
    "    \n",
    "    if length == 0:\n",
    "        return 0\n",
    "\n",
    "    maxValue = -sys.maxsize\n",
    "\n",
    "    for i in range(1, length + 1):\n",
    "\n",
    "        cost = price[i - 1] + RodCutting(length - i, price)\n",
    "\n",
    "        if cost > maxValue:\n",
    "            maxValue = cost\n",
    "\n",
    "    return maxValue\n",
    "\n",
    "    print('Profit for rod is ', maxValue)"
   ]
  },
  {
   "cell_type": "code",
   "execution_count": 119,
   "id": "90cb5e05-e034-4a33-9c20-5ee7498b0f04",
   "metadata": {},
   "outputs": [
    {
     "data": {
      "text/plain": [
       "7"
      ]
     },
     "execution_count": 119,
     "metadata": {},
     "output_type": "execute_result"
    }
   ],
   "source": [
    "RodCutting(3, [2, 5, 6]) "
   ]
  },
  {
   "cell_type": "code",
   "execution_count": 120,
   "id": "bccc3ebe-d5f7-4c8a-899c-05fb8e0b7069",
   "metadata": {},
   "outputs": [
    {
     "data": {
      "text/plain": [
       "20"
      ]
     },
     "execution_count": 120,
     "metadata": {},
     "output_type": "execute_result"
    }
   ],
   "source": [
    "RodCutting(10, [2, 4, 5, 6, 7, 8, 9, 10, 12, 15]) "
   ]
  },
  {
   "cell_type": "code",
   "execution_count": 164,
   "id": "fc8aa7ef-67c4-4453-9ab1-049d91b74520",
   "metadata": {},
   "outputs": [],
   "source": [
    "#Memoized function\n",
    "def MemArray(length, price):\n",
    "        \n",
    "    arr = [length + 1]\n",
    "    for i in range(1, length + 1):\n",
    "        maxValue = -sys.maxsize\n",
    "        #arr = maxValue\n",
    "    \n",
    "    return MemoRodCutting(length, price, arr)\n",
    "\n",
    "    \n",
    "def MemoRodCutting(length, price, arr):\n",
    "    if arr[length] >= 0:\n",
    "        return arr[length]\n",
    "    \n",
    "    maxValue\n",
    "    \n",
    "    if length == 0:\n",
    "        maxValue = 0\n",
    "        \n",
    "    else:\n",
    "        maxValue = -sys.maxsize\n",
    "        for i in range(1, length + 1):\n",
    "\n",
    "            maxValue = max(maxValue, price + MemoRodCutting(length - i - 1, price, arr))\n",
    "    arr[length] = maxValue\n",
    "\n",
    "    return maxValue"
   ]
  },
  {
   "cell_type": "code",
   "execution_count": 165,
   "id": "6b1cb5e0-cfe1-4584-b629-e57086f34cbc",
   "metadata": {},
   "outputs": [
    {
     "ename": "IndexError",
     "evalue": "list index out of range",
     "output_type": "error",
     "traceback": [
      "\u001b[1;31m---------------------------------------------------------------------------\u001b[0m",
      "\u001b[1;31mIndexError\u001b[0m                                Traceback (most recent call last)",
      "\u001b[1;32m<ipython-input-165-71082569ce8d>\u001b[0m in \u001b[0;36m<module>\u001b[1;34m\u001b[0m\n\u001b[1;32m----> 1\u001b[1;33m \u001b[0mMemArray\u001b[0m\u001b[1;33m(\u001b[0m\u001b[1;36m3\u001b[0m\u001b[1;33m,\u001b[0m \u001b[1;33m[\u001b[0m\u001b[1;36m2\u001b[0m\u001b[1;33m,\u001b[0m \u001b[1;36m5\u001b[0m\u001b[1;33m,\u001b[0m \u001b[1;36m6\u001b[0m\u001b[1;33m]\u001b[0m\u001b[1;33m)\u001b[0m\u001b[1;33m\u001b[0m\u001b[1;33m\u001b[0m\u001b[0m\n\u001b[0m",
      "\u001b[1;32m<ipython-input-164-7f5ecc865b75>\u001b[0m in \u001b[0;36mMemArray\u001b[1;34m(length, price)\u001b[0m\n\u001b[0;32m      7\u001b[0m         \u001b[1;31m#arr = maxValue\u001b[0m\u001b[1;33m\u001b[0m\u001b[1;33m\u001b[0m\u001b[1;33m\u001b[0m\u001b[0m\n\u001b[0;32m      8\u001b[0m \u001b[1;33m\u001b[0m\u001b[0m\n\u001b[1;32m----> 9\u001b[1;33m     \u001b[1;32mreturn\u001b[0m \u001b[0mMemoRodCutting\u001b[0m\u001b[1;33m(\u001b[0m\u001b[0mlength\u001b[0m\u001b[1;33m,\u001b[0m \u001b[0mprice\u001b[0m\u001b[1;33m,\u001b[0m \u001b[0marr\u001b[0m\u001b[1;33m)\u001b[0m\u001b[1;33m\u001b[0m\u001b[1;33m\u001b[0m\u001b[0m\n\u001b[0m\u001b[0;32m     10\u001b[0m \u001b[1;33m\u001b[0m\u001b[0m\n\u001b[0;32m     11\u001b[0m \u001b[1;33m\u001b[0m\u001b[0m\n",
      "\u001b[1;32m<ipython-input-164-7f5ecc865b75>\u001b[0m in \u001b[0;36mMemoRodCutting\u001b[1;34m(length, price, arr)\u001b[0m\n\u001b[0;32m     11\u001b[0m \u001b[1;33m\u001b[0m\u001b[0m\n\u001b[0;32m     12\u001b[0m \u001b[1;32mdef\u001b[0m \u001b[0mMemoRodCutting\u001b[0m\u001b[1;33m(\u001b[0m\u001b[0mlength\u001b[0m\u001b[1;33m,\u001b[0m \u001b[0mprice\u001b[0m\u001b[1;33m,\u001b[0m \u001b[0marr\u001b[0m\u001b[1;33m)\u001b[0m\u001b[1;33m:\u001b[0m\u001b[1;33m\u001b[0m\u001b[1;33m\u001b[0m\u001b[0m\n\u001b[1;32m---> 13\u001b[1;33m     \u001b[1;32mif\u001b[0m \u001b[0marr\u001b[0m\u001b[1;33m[\u001b[0m\u001b[0mlength\u001b[0m\u001b[1;33m]\u001b[0m \u001b[1;33m>=\u001b[0m \u001b[1;36m0\u001b[0m\u001b[1;33m:\u001b[0m\u001b[1;33m\u001b[0m\u001b[1;33m\u001b[0m\u001b[0m\n\u001b[0m\u001b[0;32m     14\u001b[0m         \u001b[1;32mreturn\u001b[0m \u001b[0marr\u001b[0m\u001b[1;33m[\u001b[0m\u001b[0mlength\u001b[0m\u001b[1;33m]\u001b[0m\u001b[1;33m\u001b[0m\u001b[1;33m\u001b[0m\u001b[0m\n\u001b[0;32m     15\u001b[0m \u001b[1;33m\u001b[0m\u001b[0m\n",
      "\u001b[1;31mIndexError\u001b[0m: list index out of range"
     ]
    }
   ],
   "source": [
    "MemArray(3, [2, 5, 6])"
   ]
  },
  {
   "cell_type": "code",
   "execution_count": null,
   "id": "0b579d6e-b294-45aa-852a-8c5e17f9c26e",
   "metadata": {},
   "outputs": [],
   "source": []
  },
  {
   "cell_type": "code",
   "execution_count": null,
   "id": "7105b1c8-81c4-4cf5-b01f-50b6508d0493",
   "metadata": {},
   "outputs": [],
   "source": []
  }
 ],
 "metadata": {
  "kernelspec": {
   "display_name": "Python 3",
   "language": "python",
   "name": "python3"
  },
  "language_info": {
   "codemirror_mode": {
    "name": "ipython",
    "version": 3
   },
   "file_extension": ".py",
   "mimetype": "text/x-python",
   "name": "python",
   "nbconvert_exporter": "python",
   "pygments_lexer": "ipython3",
   "version": "3.8.8"
  }
 },
 "nbformat": 4,
 "nbformat_minor": 5
}
