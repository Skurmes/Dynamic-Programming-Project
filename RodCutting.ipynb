{
 "cells": [
  {
   "cell_type": "code",
   "execution_count": 109,
   "id": "064afb93-58e8-4cd1-8bb5-2c9e1b5455a7",
   "metadata": {},
   "outputs": [],
   "source": [
    "import sys #This is used to call max = -inf\n"
   ]
  },
  {
   "cell_type": "code",
   "execution_count": 254,
   "id": "212c1db0-f439-4994-8de6-676a6cd8e59a",
   "metadata": {},
   "outputs": [],
   "source": [
    "#Recursive function\n",
    "def RodCutting(length, price):\n",
    "    \n",
    "   \n",
    "    if length == 0:\n",
    "        return 0\n",
    "\n",
    "    maxValue = -sys.maxsize\n",
    "    for i in range(1, length + 1):\n",
    "\n",
    "        cost = price[i - 1] + RodCutting(length - i, price)\n",
    "\n",
    "        if cost > maxValue:\n",
    "            maxValue = cost\n",
    "    \n",
    "    return maxValue"
   ]
  },
  {
   "cell_type": "code",
   "execution_count": 263,
   "id": "90cb5e05-e034-4a33-9c20-5ee7498b0f04",
   "metadata": {},
   "outputs": [
    {
     "name": "stdout",
     "output_type": "stream",
     "text": [
      "Maximum profit for rod is  7\n"
     ]
    }
   ],
   "source": [
    "print('Maximum profit for rod is ', RodCutting(3, [2, 5, 6]))"
   ]
  },
  {
   "cell_type": "code",
   "execution_count": 264,
   "id": "bccc3ebe-d5f7-4c8a-899c-05fb8e0b7069",
   "metadata": {},
   "outputs": [
    {
     "name": "stdout",
     "output_type": "stream",
     "text": [
      "Maximum profit for rod is  20\n"
     ]
    }
   ],
   "source": [
    "print('Maximum profit for rod is ', RodCutting(10, [2, 4, 5, 6, 7, 8, 9, 10, 12, 15]))"
   ]
  },
  {
   "cell_type": "code",
   "execution_count": 233,
   "id": "fc8aa7ef-67c4-4453-9ab1-049d91b74520",
   "metadata": {
    "tags": []
   },
   "outputs": [],
   "source": [
    "#Memoized function (This does not work)\n",
    "def MemoRodCutting(length, price, arr):\n",
    "    \n",
    "    if arr[length] >= 0:\n",
    "        return arr[length]\n",
    "    \n",
    "    maxValue\n",
    "    \n",
    "    if length == 0:\n",
    "        maxValue = 0\n",
    "    else:\n",
    "        maxValue = -sys.maxsize\n",
    "        for i in range(1, length + 1):\n",
    "\n",
    "            maxValue = max(maxValue, price + MemoRodCutting(length - i - 1, price, arr))\n",
    "    arr[length] = maxValue\n",
    "\n",
    "    return maxValue\n",
    "\n",
    "def MemArray(length, price):\n",
    "        \n",
    "    arr = [0] * (length + 1)\n",
    "    for i in range(1, length + 1):\n",
    "        maxValue = -sys.maxsize\n",
    "        arr = maxValue\n",
    "\n",
    "    return MemoRodCutting(length, price, arr)\n",
    "\n",
    "    \n"
   ]
  },
  {
   "cell_type": "code",
   "execution_count": 234,
   "id": "6b1cb5e0-cfe1-4584-b629-e57086f34cbc",
   "metadata": {
    "tags": []
   },
   "outputs": [
    {
     "ename": "TypeError",
     "evalue": "'int' object is not subscriptable",
     "output_type": "error",
     "traceback": [
      "\u001b[1;31m---------------------------------------------------------------------------\u001b[0m",
      "\u001b[1;31mTypeError\u001b[0m                                 Traceback (most recent call last)",
      "\u001b[1;32m<ipython-input-234-71082569ce8d>\u001b[0m in \u001b[0;36m<module>\u001b[1;34m\u001b[0m\n\u001b[1;32m----> 1\u001b[1;33m \u001b[0mMemArray\u001b[0m\u001b[1;33m(\u001b[0m\u001b[1;36m3\u001b[0m\u001b[1;33m,\u001b[0m \u001b[1;33m[\u001b[0m\u001b[1;36m2\u001b[0m\u001b[1;33m,\u001b[0m \u001b[1;36m5\u001b[0m\u001b[1;33m,\u001b[0m \u001b[1;36m6\u001b[0m\u001b[1;33m]\u001b[0m\u001b[1;33m)\u001b[0m\u001b[1;33m\u001b[0m\u001b[1;33m\u001b[0m\u001b[0m\n\u001b[0m",
      "\u001b[1;32m<ipython-input-233-4d104375adef>\u001b[0m in \u001b[0;36mMemArray\u001b[1;34m(length, price)\u001b[0m\n\u001b[0;32m     25\u001b[0m         \u001b[0marr\u001b[0m \u001b[1;33m=\u001b[0m \u001b[0mmaxValue\u001b[0m\u001b[1;33m\u001b[0m\u001b[1;33m\u001b[0m\u001b[0m\n\u001b[0;32m     26\u001b[0m \u001b[1;33m\u001b[0m\u001b[0m\n\u001b[1;32m---> 27\u001b[1;33m     \u001b[1;32mreturn\u001b[0m \u001b[0mMemoRodCutting\u001b[0m\u001b[1;33m(\u001b[0m\u001b[0mlength\u001b[0m\u001b[1;33m,\u001b[0m \u001b[0mprice\u001b[0m\u001b[1;33m,\u001b[0m \u001b[0marr\u001b[0m\u001b[1;33m)\u001b[0m\u001b[1;33m\u001b[0m\u001b[1;33m\u001b[0m\u001b[0m\n\u001b[0m\u001b[0;32m     28\u001b[0m \u001b[1;33m\u001b[0m\u001b[0m\n\u001b[0;32m     29\u001b[0m \u001b[1;33m\u001b[0m\u001b[0m\n",
      "\u001b[1;32m<ipython-input-233-4d104375adef>\u001b[0m in \u001b[0;36mMemoRodCutting\u001b[1;34m(length, price, arr)\u001b[0m\n\u001b[0;32m      2\u001b[0m \u001b[1;32mdef\u001b[0m \u001b[0mMemoRodCutting\u001b[0m\u001b[1;33m(\u001b[0m\u001b[0mlength\u001b[0m\u001b[1;33m,\u001b[0m \u001b[0mprice\u001b[0m\u001b[1;33m,\u001b[0m \u001b[0marr\u001b[0m\u001b[1;33m)\u001b[0m\u001b[1;33m:\u001b[0m\u001b[1;33m\u001b[0m\u001b[1;33m\u001b[0m\u001b[0m\n\u001b[0;32m      3\u001b[0m \u001b[1;33m\u001b[0m\u001b[0m\n\u001b[1;32m----> 4\u001b[1;33m     \u001b[1;32mif\u001b[0m \u001b[0marr\u001b[0m\u001b[1;33m[\u001b[0m\u001b[0mlength\u001b[0m\u001b[1;33m]\u001b[0m \u001b[1;33m>=\u001b[0m \u001b[1;36m0\u001b[0m\u001b[1;33m:\u001b[0m\u001b[1;33m\u001b[0m\u001b[1;33m\u001b[0m\u001b[0m\n\u001b[0m\u001b[0;32m      5\u001b[0m         \u001b[1;32mreturn\u001b[0m \u001b[0marr\u001b[0m\u001b[1;33m[\u001b[0m\u001b[0mlength\u001b[0m\u001b[1;33m]\u001b[0m\u001b[1;33m\u001b[0m\u001b[1;33m\u001b[0m\u001b[0m\n\u001b[0;32m      6\u001b[0m \u001b[1;33m\u001b[0m\u001b[0m\n",
      "\u001b[1;31mTypeError\u001b[0m: 'int' object is not subscriptable"
     ]
    }
   ],
   "source": [
    "MemArray(3, [2, 5, 6])"
   ]
  },
  {
   "cell_type": "code",
   "execution_count": 235,
   "id": "0b579d6e-b294-45aa-852a-8c5e17f9c26e",
   "metadata": {},
   "outputs": [],
   "source": [
    "#Bottom-Up function\n",
    "def rodCut(length, price):\n",
    " \n",
    "    arr = [0] * (length + 1)\n",
    " \n",
    "    for i in range(1, length + 1):\n",
    "        for j in range(1, i + 1):\n",
    "            arr[i] = max(arr[i], price[j - 1] + arr[i - j])\n",
    " \n",
    "    \n",
    "    return arr[length]\n",
    " \n",
    "    return maxValue\n",
    " "
   ]
  },
  {
   "cell_type": "code",
   "execution_count": 236,
   "id": "7105b1c8-81c4-4cf5-b01f-50b6508d0493",
   "metadata": {},
   "outputs": [
    {
     "data": {
      "text/plain": [
       "7"
      ]
     },
     "execution_count": 236,
     "metadata": {},
     "output_type": "execute_result"
    }
   ],
   "source": [
    "rodCut(3, [2, 5, 6])"
   ]
  },
  {
   "cell_type": "code",
   "execution_count": null,
   "id": "d7b5edad-fb9c-4f8e-aa7e-7168f365c6fe",
   "metadata": {},
   "outputs": [],
   "source": []
  }
 ],
 "metadata": {
  "kernelspec": {
   "display_name": "Python 3",
   "language": "python",
   "name": "python3"
  },
  "language_info": {
   "codemirror_mode": {
    "name": "ipython",
    "version": 3
   },
   "file_extension": ".py",
   "mimetype": "text/x-python",
   "name": "python",
   "nbconvert_exporter": "python",
   "pygments_lexer": "ipython3",
   "version": "3.8.8"
  }
 },
 "nbformat": 4,
 "nbformat_minor": 5
}
