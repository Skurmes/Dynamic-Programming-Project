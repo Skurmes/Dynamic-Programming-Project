{
 "cells": [
  {
   "cell_type": "code",
   "execution_count": 70,
   "id": "064afb93-58e8-4cd1-8bb5-2c9e1b5455a7",
   "metadata": {},
   "outputs": [],
   "source": [
    "import sys #This is used to call max = -inf"
   ]
  },
  {
   "cell_type": "code",
   "execution_count": 71,
   "id": "212c1db0-f439-4994-8de6-676a6cd8e59a",
   "metadata": {},
   "outputs": [],
   "source": [
    "#Recursive function\n",
    "def RodCutting(length, price):\n",
    "    \n",
    "    if length == 0:\n",
    "        return 0\n",
    "\n",
    "    maxValue = -sys.maxsize\n",
    "\n",
    "    for i in range(1, length + 1):\n",
    "\n",
    "        cost = price[i - 1] + RodCutting(length - i, price)\n",
    "\n",
    "        if cost > maxValue:\n",
    "            maxValue = cost\n",
    "\n",
    "    return maxValue\n",
    "\n",
    "    print('Profit for rod is ', maxValue)"
   ]
  },
  {
   "cell_type": "code",
   "execution_count": 72,
   "id": "90cb5e05-e034-4a33-9c20-5ee7498b0f04",
   "metadata": {},
   "outputs": [
    {
     "data": {
      "text/plain": [
       "7"
      ]
     },
     "execution_count": 72,
     "metadata": {},
     "output_type": "execute_result"
    }
   ],
   "source": [
    "RodCutting(3, [2, 5, 6]) "
   ]
  },
  {
   "cell_type": "code",
   "execution_count": 76,
   "id": "bccc3ebe-d5f7-4c8a-899c-05fb8e0b7069",
   "metadata": {},
   "outputs": [
    {
     "data": {
      "text/plain": [
       "20"
      ]
     },
     "execution_count": 76,
     "metadata": {},
     "output_type": "execute_result"
    }
   ],
   "source": [
    "RodCutting(10, [2, 4, 5, 6, 7, 8, 9, 10, 12, 15]) "
   ]
  },
  {
   "cell_type": "code",
   "execution_count": 53,
   "id": "fc8aa7ef-67c4-4453-9ab1-049d91b74520",
   "metadata": {},
   "outputs": [
    {
     "ename": "SyntaxError",
     "evalue": "unexpected EOF while parsing (<ipython-input-53-82de14b02100>, line 2)",
     "output_type": "error",
     "traceback": [
      "\u001b[1;36m  File \u001b[1;32m\"<ipython-input-53-82de14b02100>\"\u001b[1;36m, line \u001b[1;32m2\u001b[0m\n\u001b[1;33m    def RodCutting(length, price, MemoTable):\u001b[0m\n\u001b[1;37m                                             ^\u001b[0m\n\u001b[1;31mSyntaxError\u001b[0m\u001b[1;31m:\u001b[0m unexpected EOF while parsing\n"
     ]
    }
   ],
   "source": [
    "#Memoized function and Top-Down Programming\n",
    "def RodCutting(length, price, MemoTable):"
   ]
  },
  {
   "cell_type": "code",
   "execution_count": null,
   "id": "6b1cb5e0-cfe1-4584-b629-e57086f34cbc",
   "metadata": {},
   "outputs": [],
   "source": []
  }
 ],
 "metadata": {
  "kernelspec": {
   "display_name": "Python 3",
   "language": "python",
   "name": "python3"
  },
  "language_info": {
   "codemirror_mode": {
    "name": "ipython",
    "version": 3
   },
   "file_extension": ".py",
   "mimetype": "text/x-python",
   "name": "python",
   "nbconvert_exporter": "python",
   "pygments_lexer": "ipython3",
   "version": "3.8.8"
  }
 },
 "nbformat": 4,
 "nbformat_minor": 5
}
