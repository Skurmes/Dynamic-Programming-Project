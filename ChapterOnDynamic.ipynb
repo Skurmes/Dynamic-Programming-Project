{
  "nbformat": 4,
  "nbformat_minor": 0,
  "metadata": {
    "colab": {
      "name": "ChapterOnDynamic.ipynb",
      "provenance": [],
      "collapsed_sections": [],
      "include_colab_link": true
    },
    "kernelspec": {
      "name": "python3",
      "display_name": "Python 3"
    },
    "language_info": {
      "name": "python"
    }
  },
  "cells": [
    {
      "cell_type": "markdown",
      "metadata": {
        "id": "view-in-github",
        "colab_type": "text"
      },
      "source": [
        "<a href=\"https://colab.research.google.com/github/roybibek/Dynamic-Programming-Project/blob/TitleAndSetup/ChapterOnDynamic.ipynb\" target=\"_parent\"><img src=\"https://colab.research.google.com/assets/colab-badge.svg\" alt=\"Open In Colab\"/></a>"
      ]
    },
    {
      "cell_type": "markdown",
      "metadata": {
        "id": "i_4QVqdV96a6"
      },
      "source": [
        "# Basics of Dynamic Programming\n",
        "\n",
        "\n",
        "\n"
      ]
    },
    {
      "cell_type": "markdown",
      "metadata": {
        "id": "woaZjkArTMAh"
      },
      "source": [
        "## Introduction/Motivation\n",
        "\n",
        "\n",
        "\n",
        "\n"
      ]
    },
    {
      "cell_type": "markdown",
      "metadata": {
        "id": "n0AD_VXnYiKq"
      },
      "source": [
        "Dynamic programming is an extremely important mathematical method for improving time complexities for computational algorithms. The goal for dynamic programming is to find the optimal solution for a recursive problem. For this arithmic technique, three important steps involved in dynamic programming are: Recursion, Memoization, and lastly Bottom-Up. This chapter will go into depth into how dynamic programming could be the right choice of technique for those recursive problems."
      ]
    },
    {
      "cell_type": "markdown",
      "metadata": {
        "id": "DVKCnmI8UBTG"
      },
      "source": [
        "## Theory"
      ]
    },
    {
      "cell_type": "markdown",
      "metadata": {
        "id": "5GgWvxZMYjTU"
      },
      "source": [
        "Use **bold** for terms that you are defining.\n",
        "\n"
      ]
    },
    {
      "cell_type": "markdown",
      "metadata": {
        "id": "gZAnmh5LlmwX"
      },
      "source": [
        "## Examples"
      ]
    },
    {
      "cell_type": "markdown",
      "metadata": {
        "id": "VXEn-1oj8CG_"
      },
      "source": [
        "### Example 1"
      ]
    },
    {
      "cell_type": "markdown",
      "metadata": {
        "id": "hbqQ17BOlqGN"
      },
      "source": [
        "\n",
        "\n"
      ]
    },
    {
      "cell_type": "markdown",
      "metadata": {
        "id": "xwx5JA688Gqu"
      },
      "source": [
        "### Example 2"
      ]
    },
    {
      "cell_type": "markdown",
      "metadata": {
        "id": "UCeUiE8j8Ngm"
      },
      "source": [
        ""
      ]
    },
    {
      "cell_type": "markdown",
      "metadata": {
        "id": "fb2uZl1q_LR_"
      },
      "source": [
        "## References\n",
        "\n",
        "-Cormen, Thomas H., et al. Introduction to Algorithms. 3rd ed., Massachusetts Institute of Technology, 2009, pp. 30-413.\n",
        "\n",
        "-“Dynamic Programming - GeeksforGeeks.” GeeksforGeeks, https://www.\n",
        "geeksforgeeks.org/dynamic-programming/. Accessed 16 Sept. 2021.\n",
        "\n",
        "-Uploaded by CS Dojo. “What Is Dynamic Programming and How to Use It.” YouTube.com, YouTube(Owned by Google), 13 Dec. 2017, www.youtube.com/watch?v=vYquumk4nWw.\n",
        "\n"
      ]
    },
    {
      "cell_type": "markdown",
      "metadata": {
        "id": "DGC5WaH4Y98C"
      },
      "source": [
        "## Problems"
      ]
    },
    {
      "cell_type": "markdown",
      "metadata": {
        "id": "aFM8E4VSZA_p"
      },
      "source": [
        ""
      ]
    },
    {
      "cell_type": "code",
      "metadata": {
        "id": "mbMCC1ZMZAHk"
      },
      "source": [
        ""
      ],
      "execution_count": null,
      "outputs": []
    },
    {
      "cell_type": "markdown",
      "metadata": {
        "id": "pz5xCYtbZCGZ"
      },
      "source": [
        "## Project Idea"
      ]
    },
    {
      "cell_type": "markdown",
      "metadata": {
        "id": "LrBCw5_-ZJFK"
      },
      "source": [
        "For this project, we plan on going over Dynamic Programming an its three main steps in which includes Recursion, Memoization, and Bottom-Up. We plan on sharing the time speeds and effeciency behind solutions for those recursive problems that fall into Bellman's principle of opltimality to then be Dynamically optimized.  "
      ]
    },
    {
      "cell_type": "markdown",
      "metadata": {
        "id": "C8i0wsUKijeP"
      },
      "source": [
        "### Authors"
      ]
    },
    {
      "cell_type": "markdown",
      "metadata": {
        "id": "rajid0PdipzE"
      },
      "source": [
        "Principal authors of this chapter were: [Tristan Woods](https://github.com/Skurmes) [Bibek Roy](https://github.com/roybibek) [Danny Castaneda](https://github.com/DannyCR7XD)\n"
      ]
    },
    {
      "cell_type": "code",
      "metadata": {
        "id": "7gUn1NirlAep"
      },
      "source": [
        ""
      ],
      "execution_count": null,
      "outputs": []
    }
  ]
}