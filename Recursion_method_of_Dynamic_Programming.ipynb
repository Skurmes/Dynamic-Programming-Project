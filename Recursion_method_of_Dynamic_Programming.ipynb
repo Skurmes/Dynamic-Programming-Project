{
  "nbformat": 4,
  "nbformat_minor": 0,
  "metadata": {
    "colab": {
      "name": "Recursion method of Dynamic Programming.ipynb",
      "provenance": [],
      "authorship_tag": "ABX9TyN6vdT8xinhV7l5McK9lu6g",
      "include_colab_link": true
    },
    "kernelspec": {
      "name": "python3",
      "display_name": "Python 3"
    },
    "language_info": {
      "name": "python"
    }
  },
  "cells": [
    {
      "cell_type": "markdown",
      "metadata": {
        "id": "view-in-github",
        "colab_type": "text"
      },
      "source": [
        "<a href=\"https://colab.research.google.com/github/roybibek/Dynamic-Programming-Project/blob/main/Recursion_method_of_Dynamic_Programming.ipynb\" target=\"_parent\"><img src=\"https://colab.research.google.com/assets/colab-badge.svg\" alt=\"Open In Colab\"/></a>"
      ]
    },
    {
      "cell_type": "markdown",
      "metadata": {
        "id": "xuskwEmriV1r"
      },
      "source": [
        "**Recursion:**\n",
        "Recursion is a way of finding the solution by expressing the value of function in terms of other values of that function directly or indirectly and such function is called a recursive function."
      ]
    },
    {
      "cell_type": "code",
      "metadata": {
        "id": "AtQErtTaicb4"
      },
      "source": [
        "def fib(n):\n",
        "    if n==1 or n==2:\n",
        "        return 1\n",
        "    else:\n",
        "        fibSeq = fib(n-1) + fib(n-2)\n",
        "    return fibSeq"
      ],
      "execution_count": null,
      "outputs": []
    },
    {
      "cell_type": "code",
      "metadata": {
        "id": "3IxLBPFdjz2y",
        "colab": {
          "base_uri": "https://localhost:8080/"
        },
        "outputId": "755551a7-746d-432c-fade-ca1784ed304c"
      },
      "source": [
        "fib(1)"
      ],
      "execution_count": null,
      "outputs": [
        {
          "output_type": "execute_result",
          "data": {
            "text/plain": [
              "1"
            ]
          },
          "metadata": {},
          "execution_count": 2
        }
      ]
    },
    {
      "cell_type": "code",
      "metadata": {
        "id": "PQ8swP8Kj1xd",
        "colab": {
          "base_uri": "https://localhost:8080/"
        },
        "outputId": "c57dcadf-2204-40aa-d317-f8be1a6c97d1"
      },
      "source": [
        "fib(20)"
      ],
      "execution_count": null,
      "outputs": [
        {
          "output_type": "execute_result",
          "data": {
            "text/plain": [
              "6765"
            ]
          },
          "metadata": {},
          "execution_count": 3
        }
      ]
    },
    {
      "cell_type": "code",
      "metadata": {
        "id": "rG2mQBmPj4P1"
      },
      "source": [
        ""
      ],
      "execution_count": null,
      "outputs": []
    }
  ]
}