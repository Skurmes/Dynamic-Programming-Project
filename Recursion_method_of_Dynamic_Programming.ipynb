{
  "nbformat": 4,
  "nbformat_minor": 0,
  "metadata": {
    "colab": {
      "name": "Recursion method of Dynamic Programming.ipynb",
      "provenance": [],
      "include_colab_link": true
    },
    "kernelspec": {
      "name": "python3",
      "display_name": "Python 3"
    },
    "language_info": {
      "name": "python"
    }
  },
  "cells": [
    {
      "cell_type": "markdown",
      "metadata": {
        "id": "view-in-github",
        "colab_type": "text"
      },
      "source": [
        "<a href=\"https://colab.research.google.com/github/roybibek/Dynamic-Programming-Project/blob/main/Recursion_method_of_Dynamic_Programming.ipynb\" target=\"_parent\"><img src=\"https://colab.research.google.com/assets/colab-badge.svg\" alt=\"Open In Colab\"/></a>"
      ]
    },
    {
      "cell_type": "markdown",
      "metadata": {
        "id": "xuskwEmriV1r"
      },
      "source": [
        "**Recursion:**\n",
        "Recursion is a way of finding the solution by expressing the value of function in terms of other values of that function directly or indirectly and such function is called a recursive function.\n",
        "In recursion, we also break a problem into similar subproblems.\n",
        "\n",
        "Let's try to understand this by taking an example of Fibonacci numbers.\n",
        "\n",
        "Fibonacci (n) = 1; if n = 0\n",
        "Fibonacci (n) = 1; if n = 1\n",
        "Fibonacci (n) = Fibonacci(n-1) + Fibonacci(n-2)\n",
        "\n",
        "So, the first few numbers in this series will be: 1, 1, 2, 3, 5, 8, 13, 21... and so on!\n",
        "\n",
        "A code for it using pure recursion:"
      ]
    },
    {
      "cell_type": "code",
      "metadata": {
        "id": "F374I3PJPhU0"
      },
      "source": [
        "from datetime import datetime\n",
        "startTime = datetime.now()\n",
        "import sys"
      ],
      "execution_count": 5,
      "outputs": []
    },
    {
      "cell_type": "code",
      "metadata": {
        "id": "AtQErtTaicb4"
      },
      "source": [
        "def fib(n):\n",
        "    if n==1 or n==2:\n",
        "        return 1\n",
        "    else:\n",
        "        fibSeq = fib(n-1) + fib(n-2)\n",
        "    return fibSeq"
      ],
      "execution_count": 6,
      "outputs": []
    },
    {
      "cell_type": "code",
      "metadata": {
        "id": "3IxLBPFdjz2y",
        "colab": {
          "base_uri": "https://localhost:8080/"
        },
        "outputId": "2ed1da5e-1a7b-4914-89e5-269df7432bda"
      },
      "source": [
        "fib(1)"
      ],
      "execution_count": 7,
      "outputs": [
        {
          "output_type": "execute_result",
          "data": {
            "text/plain": [
              "1"
            ]
          },
          "metadata": {},
          "execution_count": 7
        }
      ]
    },
    {
      "cell_type": "code",
      "metadata": {
        "id": "7UEMgmNiPyI4",
        "outputId": "325450d6-fbb4-4d50-8b76-e8889e945fbb",
        "colab": {
          "base_uri": "https://localhost:8080/"
        }
      },
      "source": [
        "print(datetime.now() - startTime)"
      ],
      "execution_count": 8,
      "outputs": [
        {
          "output_type": "stream",
          "name": "stdout",
          "text": [
            "0:00:02.066369\n"
          ]
        }
      ]
    },
    {
      "cell_type": "code",
      "metadata": {
        "id": "PQ8swP8Kj1xd",
        "colab": {
          "base_uri": "https://localhost:8080/"
        },
        "outputId": "fc59c0c4-0d29-4567-8f0b-8943f7b76f5b"
      },
      "source": [
        "fib(20)"
      ],
      "execution_count": 9,
      "outputs": [
        {
          "output_type": "execute_result",
          "data": {
            "text/plain": [
              "6765"
            ]
          },
          "metadata": {},
          "execution_count": 9
        }
      ]
    },
    {
      "cell_type": "code",
      "metadata": {
        "id": "rG2mQBmPj4P1",
        "outputId": "4e14ac05-f7c9-4ce2-b9a4-238fa134d8b0",
        "colab": {
          "base_uri": "https://localhost:8080/"
        }
      },
      "source": [
        "print(datetime.now() - startTime)"
      ],
      "execution_count": 10,
      "outputs": [
        {
          "output_type": "stream",
          "name": "stdout",
          "text": [
            "0:00:04.507663\n"
          ]
        }
      ]
    },
    {
      "cell_type": "markdown",
      "metadata": {
        "id": "zDzwgEnROqtS"
      },
      "source": [
        "**Time Complexity:** \n",
        "T(n) = T(n-1) + T(n-2) which is exponential. \n",
        "We can observe that this implementation does a lot of repeated work (see the following recursion tree). So this is a bad implementation for nth Fibonacci number. \n",
        "Since the fibo method does only a constant amount of work, the time complexity is proportional to the number of calls to fibo, that is the number of nodes in the recursive call tree.\n",
        "\n",
        "The recursive call tree is a binary tree, and for fib(n) it has n levels. Therefore, the maximum number of nodes in this tree is 2n−1. The time complexity is thus O(2^n).\n"
      ]
    },
    {
      "cell_type": "markdown",
      "metadata": {
        "id": "pJPvh9KQQgBf"
      },
      "source": [
        "**Space Complexity**\n",
        "The fib method requires just a constant amount of memory, but each recursive call adds a frame to the system’s call stack. Thus the algorithm uses space proportional to the maximum number of fibo frames that can be simultaneously on the call stack. This equals the number of levels of the recursive call tree.\n",
        "\n",
        "For fib(n), the number of levels of the recursive call tree is n. Thus, the space complexity of the algorithm is O(n)."
      ]
    },
    {
      "cell_type": "code",
      "metadata": {
        "id": "Y6ayLk0pQoZf"
      },
      "source": [
        ""
      ],
      "execution_count": null,
      "outputs": []
    },
    {
      "cell_type": "markdown",
      "metadata": {
        "id": "muC6whTdQwo1"
      },
      "source": [
        "**Refrences:**\n",
        "https://weibeld.net/algorithms/recursion.html\n",
        "\n",
        "\n",
        "https://www.geeksforgeeks.org/program-for-nth-fibonacci-number/#"
      ]
    },
    {
      "cell_type": "code",
      "metadata": {
        "id": "FyAWUAKOQ300"
      },
      "source": [
        ""
      ],
      "execution_count": null,
      "outputs": []
    }
  ]
}