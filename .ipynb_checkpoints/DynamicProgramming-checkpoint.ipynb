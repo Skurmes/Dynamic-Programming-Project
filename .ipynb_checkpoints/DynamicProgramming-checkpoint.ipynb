{
 "cells": [
  {
   "cell_type": "markdown",
   "metadata": {
    "id": "i_4QVqdV96a6"
   },
   "source": [
    "# Dynamic Programming\n",
    "\n",
    "\n",
    "\n"
   ]
  },
  {
   "cell_type": "markdown",
   "metadata": {
    "id": "woaZjkArTMAh"
   },
   "source": [
    "## Introduction/Motivation\n",
    "\n",
    "\n",
    "\n",
    "\n"
   ]
  },
  {
   "cell_type": "markdown",
   "metadata": {
    "id": "n0AD_VXnYiKq"
   },
   "source": [
    "   Humans are problem solvers, always trying to devise the best way to solve a problem. People complete their task in different ways. Some solutions are effective but take time. While other solutions may be finished quickly, but the job is sloppy. The same thing can be said about programming code. The goal is to find both an optimal and time efficient solution that can limit the run time of the application and give the user more time to complete other tasks. An excellent method to complete this goal is dynamic programming. \n",
    "\n",
    "   Dynamic programming is a method created by Richard Bellman in the 1950s (Dreyfus 48). Dynamic programming mainly looks at recursive functions and how to optimize them. Recursive functions are when a value is constantly repeated for the same input. In programming using recursive function can be effective and most of the time, will complete the task. However, too many recursive functions can slow down a program and this is where dynamic programming can become useful (“Dynamic Programming”). Dynamic Programming is used to optimize problems by breaking down the algorithm into subproblems. The objective is to prevent each subproblem from being solved more than once which can be achieved by running a recursive function once and storing in memory this is called memoization. Finally, it is important to take a bottom-up approach rather than a top-down perspective (Cormen 359).\n",
    "\n",
    "\n",
    "\n"
   ]
  },
  {
   "cell_type": "markdown",
   "metadata": {
    "tags": []
   },
   "source": [
    "*recursion -Bibek"
   ]
  },
  {
   "cell_type": "markdown",
   "metadata": {},
   "source": [
    "*memoization -Danny"
   ]
  },
  {
   "cell_type": "markdown",
   "metadata": {},
   "source": [
    "*bottom-up top-down(memoization and recursion). -Tristan "
   ]
  },
  {
   "cell_type": "markdown",
   "metadata": {},
   "source": [
    "Conclusion -Bibek"
   ]
  },
  {
   "cell_type": "markdown",
   "metadata": {
    "id": "DVKCnmI8UBTG"
   },
   "source": [
    "## Theory"
   ]
  },
  {
   "cell_type": "markdown",
   "metadata": {
    "id": "5GgWvxZMYjTU",
    "tags": []
   },
   "source": [
    "Use **bold** for terms that you are defining.\n",
    "\n"
   ]
  },
  {
   "cell_type": "markdown",
   "metadata": {
    "id": "gZAnmh5LlmwX",
    "tags": []
   },
   "source": [
    "## Examples"
   ]
  },
  {
   "cell_type": "markdown",
   "metadata": {
    "id": "xwx5JA688Gqu"
   },
   "source": [
    "### Fibonacci Sequence\n",
    "Example 1:"
   ]
  },
  {
   "cell_type": "markdown",
   "metadata": {
    "id": "VXEn-1oj8CG_"
   },
   "source": [
    "### Rod Cutting Problem\n",
    "Example 2: Although dynamic programming focuses on optimal solutions it also takes a look at subproblems. Breaking the subproblems down and then bringing them back to solve the problem as a whole. The Rod Cutting problem shows both the breaking down of the problem and it's time complexity. "
   ]
  },
  {
   "cell_type": "markdown",
   "metadata": {
    "tags": []
   },
   "source": [
    "![Rod Cutting Tree](img/RodCutting.jpg)\n",
    "\n",
    "**Figure 1:** Rod Cutting Example"
   ]
  },
  {
   "cell_type": "code",
   "execution_count": 4,
   "metadata": {},
   "outputs": [],
   "source": [
    "import sys #This is used to call max = -inf"
   ]
  },
  {
   "cell_type": "code",
   "execution_count": 17,
   "metadata": {},
   "outputs": [],
   "source": [
    "#Recursive function\n",
    "def RodCutting(length, price):\n",
    "    \n",
    "    if length == 0:\n",
    "        return 0\n",
    "\n",
    "    maxValue = -sys.maxsize\n",
    "\n",
    "    for i in range(1, length + 1):\n",
    "\n",
    "        cost = price[i - 1] + RodCutting(length - i, price)\n",
    "\n",
    "        if cost > maxValue:\n",
    "            maxValue = cost\n",
    "\n",
    "    return maxValue"
   ]
  },
  {
   "cell_type": "markdown",
   "metadata": {
    "id": "mbMCC1ZMZAHk"
   },
   "source": [
    "### Time complexity is $ O (n^n) $"
   ]
  },
  {
   "cell_type": "code",
   "execution_count": 21,
   "metadata": {
    "tags": []
   },
   "outputs": [
    {
     "name": "stdout",
     "output_type": "stream",
     "text": [
      "Maximum profit for rod is  7\n"
     ]
    }
   ],
   "source": [
    "print('Maximum profit for rod is: ', RodCutting(3, [2, 5, 6]))"
   ]
  },
  {
   "cell_type": "code",
   "execution_count": 22,
   "metadata": {},
   "outputs": [
    {
     "name": "stdout",
     "output_type": "stream",
     "text": [
      "Maximum profit for rod is  20\n"
     ]
    }
   ],
   "source": [
    "print('Maximum profit for rod is: ', RodCutting(10, [2, 4, 5, 6, 7, 8, 9, 10, 12, 15]))"
   ]
  },
  {
   "cell_type": "markdown",
   "metadata": {},
   "source": [
    "![Recursion Tree](img/RTFour.jpg)\n",
    "\n",
    "**Figure 2:** Recursion Tree with a length = 4."
   ]
  },
  {
   "cell_type": "code",
   "execution_count": 23,
   "metadata": {
    "tags": []
   },
   "outputs": [],
   "source": [
    "#Bottom-Up function\n",
    "def BotUpRodCutting(length, price):\n",
    " \n",
    "    arr = [0] * (length + 1)\n",
    " \n",
    "    \n",
    "    for i in range(1, length + 1):\n",
    "        for j in range(1, i + 1):\n",
    "            arr[i] = max(arr[i], price[j - 1] + arr[i - j])\n",
    " \n",
    "    \n",
    "    return arr[length]\n",
    " \n",
    "    return maxValue\n",
    " "
   ]
  },
  {
   "cell_type": "code",
   "execution_count": 24,
   "metadata": {},
   "outputs": [
    {
     "name": "stdout",
     "output_type": "stream",
     "text": [
      "Maximum profit for rod is  7\n"
     ]
    }
   ],
   "source": [
    "print('Maximum profit for rod is ', BotUpRodCutting(3, [2, 5, 6]))"
   ]
  },
  {
   "cell_type": "markdown",
   "metadata": {
    "id": "mbMCC1ZMZAHk"
   },
   "source": [
    "### Time complexity is $ O (n^2) $"
   ]
  },
  {
   "cell_type": "markdown",
   "metadata": {
    "id": "UCeUiE8j8Ngm"
   },
   "source": [
    "### Matrix Chain\n",
    "Example 3:"
   ]
  },
  {
   "cell_type": "markdown",
   "metadata": {
    "id": "fb2uZl1q_LR_"
   },
   "source": [
    "## References\n",
    "\n",
    "Cormen, Thomas H., et al. Introduction to Algorithms. 3rd ed., Massachusetts Institute of Technology, 2009, pp. 30-413.\n",
    "\n",
    "Uploaded by CS Dojo. “What Is Dynamic Programming and How to Use It.” YouTube.com, YouTube(Owned by Google), 13 Dec. 2017, www.youtube.com/watch?v=vYquumk4nWw.\n",
    "The channel owner of \"CS Dojo\" has not fully released his name most likely for privacy reasons.\n",
    "\n",
    "“Dynamic Programming - GeeksforGeeks.” GeeksforGeeks, www.geeksforgeeks.org/dynamic-programming/. Accessed 16 Sept. 2021.\n",
    "\n",
    "“Rod Cutting Problem.” Techie Delight, 29 Sept. 2021, https://www.techiedelight.com/rod-cutting/. Accessed 10 Oct. 2021."
   ]
  },
  {
   "cell_type": "markdown",
   "metadata": {
    "id": "DGC5WaH4Y98C"
   },
   "source": [
    "## Problems"
   ]
  },
  {
   "cell_type": "markdown",
   "metadata": {
    "id": "pz5xCYtbZCGZ"
   },
   "source": [
    "## Project Idea"
   ]
  },
  {
   "cell_type": "markdown",
   "metadata": {
    "id": "LrBCw5_-ZJFK"
   },
   "source": []
  },
  {
   "cell_type": "markdown",
   "metadata": {
    "id": "C8i0wsUKijeP"
   },
   "source": [
    "### Authors"
   ]
  },
  {
   "cell_type": "markdown",
   "metadata": {
    "id": "rajid0PdipzE"
   },
   "source": [
    "Principal authors of this chapter were: [N.C.Jacob](https://github.com/nurfnick), [B.Roy](https://github.com/roybibek), [D.L.Castaneda](https://github.com/DannyCR7XD), & [T.A.Wood](https://github.com/Skurmes)\n",
    "\n",
    "Contributions were made by:"
   ]
  },
  {
   "cell_type": "code",
   "execution_count": null,
   "metadata": {
    "id": "7gUn1NirlAep"
   },
   "outputs": [],
   "source": []
  },
  {
   "cell_type": "code",
   "execution_count": null,
   "metadata": {},
   "outputs": [],
   "source": []
  }
 ],
 "metadata": {
  "colab": {
   "authorship_tag": "ABX9TyNmxRjaminuBl2bOO8dGI+8",
   "include_colab_link": true,
   "name": "Untitled30.ipynb",
   "provenance": []
  },
  "kernelspec": {
   "display_name": "Python 3",
   "language": "python",
   "name": "python3"
  },
  "language_info": {
   "codemirror_mode": {
    "name": "ipython",
    "version": 3
   },
   "file_extension": ".py",
   "mimetype": "text/x-python",
   "name": "python",
   "nbconvert_exporter": "python",
   "pygments_lexer": "ipython3",
   "version": "3.8.8"
  }
 },
 "nbformat": 4,
 "nbformat_minor": 4
}
