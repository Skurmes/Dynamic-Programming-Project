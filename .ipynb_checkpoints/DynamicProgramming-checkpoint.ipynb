{
 "cells": [
  {
   "cell_type": "markdown",
   "metadata": {
    "id": "i_4QVqdV96a6"
   },
   "source": [
    "# Dynamic Programming\n",
    "\n",
    "\n",
    "\n"
   ]
  },
  {
   "cell_type": "markdown",
   "metadata": {
    "id": "woaZjkArTMAh"
   },
   "source": [
    "## Introduction/Motivation\n",
    "\n",
    "\n",
    "\n",
    "\n"
   ]
  },
  {
   "cell_type": "markdown",
   "metadata": {
    "id": "n0AD_VXnYiKq"
   },
   "source": [
    "&nbsp;&nbsp;&nbsp;&nbsp;Humans are problem solvers, always trying to devise the best way to solve a problem. People complete their task in different ways. Some solutions are effective but take time. While other solutions may be finished quickly, but the job is sloppy. The same thing can be said about programming code. The goal is to find both an optimal and time efficient solution that can limit the run time of the application and give the user more time to complete other tasks. An excellent method to complete this goal is dynamic programming. \n",
    "\n",
    "&nbsp;&nbsp;&nbsp;&nbsp;Dynamic programming is a method created by Richard Bellman in the 1950s (Dreyfus 48). Dynamic Programming is mainly an optimization over plain recursion. Wherever there is a recursive solution that has repeated calls for some inputs, we can optimize it using Dynamic Programming. The idea is to simply store that results of subproblems, so that we do not have to \n",
    "re-compute them when needed later. This simple optimization reduces time complexities from  exponential to polynomial (“Dynamic Programming”). Since Dynamic Programming is optimizing problems by breaking down the algorithm into subproblems, it helps prevent each subproblem from being solved more than once which can be achieved by running a recursive function once and storing in memory this is called memoization. Finally, it is important to take a bottom-up approach rather than a top-down approach (Cormen 359).\n",
    "\n",
    "\n",
    "\n"
   ]
  },
  {
   "cell_type": "markdown",
   "metadata": {
    "tags": []
   },
   "source": [
    "*recursion -Bibek"
   ]
  },
  {
   "cell_type": "markdown",
   "metadata": {},
   "source": [
    "*memoization -Danny"
   ]
  },
  {
   "cell_type": "markdown",
   "metadata": {},
   "source": [
    "*bottom-up top-down(memoization and recursion). -Tristan "
   ]
  },
  {
   "cell_type": "markdown",
   "metadata": {},
   "source": [
    "Conclusion -Bibek"
   ]
  },
  {
   "cell_type": "markdown",
   "metadata": {
    "id": "DVKCnmI8UBTG"
   },
   "source": [
    "## Theory"
   ]
  },
  {
   "cell_type": "markdown",
   "metadata": {
    "id": "5GgWvxZMYjTU",
    "tags": []
   },
   "source": [
    "Use **bold** for terms that you are defining.\n",
    "\n"
   ]
  },
  {
   "cell_type": "markdown",
   "metadata": {
    "id": "gZAnmh5LlmwX",
    "tags": []
   },
   "source": [
    "## Examples"
   ]
  },
  {
   "cell_type": "markdown",
   "metadata": {
    "id": "xwx5JA688Gqu"
   },
   "source": [
    "### Fibonacci Sequence\n",
    "Example 1:"
   ]
  },
  {
   "cell_type": "code",
   "execution_count": 1,
   "metadata": {},
   "outputs": [],
   "source": [
    "def fib(n):\n",
    "    if n==1 or n==2:\n",
    "        return 1\n",
    "    else:\n",
    "        fibSeq = fib(n-1) + fib(n-2)\n",
    "    return fibSeq\n",
    "        "
   ]
  },
  {
   "cell_type": "code",
   "execution_count": 2,
   "metadata": {},
   "outputs": [
    {
     "data": {
      "text/plain": [
       "1"
      ]
     },
     "execution_count": 2,
     "metadata": {},
     "output_type": "execute_result"
    }
   ],
   "source": [
    "fib(1)"
   ]
  },
  {
   "cell_type": "code",
   "execution_count": 3,
   "metadata": {},
   "outputs": [
    {
     "data": {
      "text/plain": [
       "6765"
      ]
     },
     "execution_count": 3,
     "metadata": {},
     "output_type": "execute_result"
    }
   ],
   "source": [
    "fib(20)"
   ]
  },
  {
   "cell_type": "code",
   "execution_count": 4,
   "metadata": {},
   "outputs": [
    {
     "data": {
      "text/plain": [
       "9227465"
      ]
     },
     "execution_count": 4,
     "metadata": {},
     "output_type": "execute_result"
    }
   ],
   "source": [
    "fib(35)"
   ]
  },
  {
   "cell_type": "code",
   "execution_count": 5,
   "metadata": {},
   "outputs": [],
   "source": [
    "def mFib(n, mArray):\n",
    "    if mArray[n] is not None:\n",
    "        return mArray[n]\n",
    "    if n==1 or n==2:\n",
    "        return 1\n",
    "    else:\n",
    "        fibSeq = mFib(n-1, mArray) + mFib(n-2, mArray)\n",
    "    mArray[n] = fibSeq\n",
    "    return fibSeq\n",
    "\n",
    "def fibMArray(n):\n",
    "    mArray = [None] * (n + 1)\n",
    "    return mFib(n,mArray)"
   ]
  },
  {
   "cell_type": "code",
   "execution_count": 6,
   "metadata": {},
   "outputs": [
    {
     "data": {
      "text/plain": [
       "9227465"
      ]
     },
     "execution_count": 6,
     "metadata": {},
     "output_type": "execute_result"
    }
   ],
   "source": [
    "fibMArray(35)"
   ]
  },
  {
   "cell_type": "code",
   "execution_count": 7,
   "metadata": {},
   "outputs": [
    {
     "data": {
      "text/plain": [
       "176023680645013966468226945392411250770384383304492191886725992896575345044216019675"
      ]
     },
     "execution_count": 7,
     "metadata": {},
     "output_type": "execute_result"
    }
   ],
   "source": [
    "fibMArray(400)"
   ]
  },
  {
   "cell_type": "code",
   "execution_count": 8,
   "metadata": {},
   "outputs": [
    {
     "ename": "RecursionError",
     "evalue": "maximum recursion depth exceeded in comparison",
     "output_type": "error",
     "traceback": [
      "\u001b[1;31m---------------------------------------------------------------------------\u001b[0m",
      "\u001b[1;31mRecursionError\u001b[0m                            Traceback (most recent call last)",
      "\u001b[1;32m<ipython-input-8-41e0e8de36de>\u001b[0m in \u001b[0;36m<module>\u001b[1;34m\u001b[0m\n\u001b[1;32m----> 1\u001b[1;33m \u001b[0mfibMArray\u001b[0m\u001b[1;33m(\u001b[0m\u001b[1;36m4000\u001b[0m\u001b[1;33m)\u001b[0m\u001b[1;33m\u001b[0m\u001b[1;33m\u001b[0m\u001b[0m\n\u001b[0m\u001b[0;32m      2\u001b[0m \u001b[1;31m#This is meant to create an error, because even though we are using memoization, there are still too many recursive functions being called which has cause this code to error out.\u001b[0m\u001b[1;33m\u001b[0m\u001b[1;33m\u001b[0m\u001b[1;33m\u001b[0m\u001b[0m\n",
      "\u001b[1;32m<ipython-input-5-4d5d0bca6932>\u001b[0m in \u001b[0;36mfibMArray\u001b[1;34m(n)\u001b[0m\n\u001b[0;32m     11\u001b[0m \u001b[1;32mdef\u001b[0m \u001b[0mfibMArray\u001b[0m\u001b[1;33m(\u001b[0m\u001b[0mn\u001b[0m\u001b[1;33m)\u001b[0m\u001b[1;33m:\u001b[0m\u001b[1;33m\u001b[0m\u001b[1;33m\u001b[0m\u001b[0m\n\u001b[0;32m     12\u001b[0m     \u001b[0mmArray\u001b[0m \u001b[1;33m=\u001b[0m \u001b[1;33m[\u001b[0m\u001b[1;32mNone\u001b[0m\u001b[1;33m]\u001b[0m \u001b[1;33m*\u001b[0m \u001b[1;33m(\u001b[0m\u001b[0mn\u001b[0m \u001b[1;33m+\u001b[0m \u001b[1;36m1\u001b[0m\u001b[1;33m)\u001b[0m\u001b[1;33m\u001b[0m\u001b[1;33m\u001b[0m\u001b[0m\n\u001b[1;32m---> 13\u001b[1;33m     \u001b[1;32mreturn\u001b[0m \u001b[0mmFib\u001b[0m\u001b[1;33m(\u001b[0m\u001b[0mn\u001b[0m\u001b[1;33m,\u001b[0m\u001b[0mmArray\u001b[0m\u001b[1;33m)\u001b[0m\u001b[1;33m\u001b[0m\u001b[1;33m\u001b[0m\u001b[0m\n\u001b[0m",
      "\u001b[1;32m<ipython-input-5-4d5d0bca6932>\u001b[0m in \u001b[0;36mmFib\u001b[1;34m(n, mArray)\u001b[0m\n\u001b[0;32m      5\u001b[0m         \u001b[1;32mreturn\u001b[0m \u001b[1;36m1\u001b[0m\u001b[1;33m\u001b[0m\u001b[1;33m\u001b[0m\u001b[0m\n\u001b[0;32m      6\u001b[0m     \u001b[1;32melse\u001b[0m\u001b[1;33m:\u001b[0m\u001b[1;33m\u001b[0m\u001b[1;33m\u001b[0m\u001b[0m\n\u001b[1;32m----> 7\u001b[1;33m         \u001b[0mfibSeq\u001b[0m \u001b[1;33m=\u001b[0m \u001b[0mmFib\u001b[0m\u001b[1;33m(\u001b[0m\u001b[0mn\u001b[0m\u001b[1;33m-\u001b[0m\u001b[1;36m1\u001b[0m\u001b[1;33m,\u001b[0m \u001b[0mmArray\u001b[0m\u001b[1;33m)\u001b[0m \u001b[1;33m+\u001b[0m \u001b[0mmFib\u001b[0m\u001b[1;33m(\u001b[0m\u001b[0mn\u001b[0m\u001b[1;33m-\u001b[0m\u001b[1;36m2\u001b[0m\u001b[1;33m,\u001b[0m \u001b[0mmArray\u001b[0m\u001b[1;33m)\u001b[0m\u001b[1;33m\u001b[0m\u001b[1;33m\u001b[0m\u001b[0m\n\u001b[0m\u001b[0;32m      8\u001b[0m     \u001b[0mmArray\u001b[0m\u001b[1;33m[\u001b[0m\u001b[0mn\u001b[0m\u001b[1;33m]\u001b[0m \u001b[1;33m=\u001b[0m \u001b[0mfibSeq\u001b[0m\u001b[1;33m\u001b[0m\u001b[1;33m\u001b[0m\u001b[0m\n\u001b[0;32m      9\u001b[0m     \u001b[1;32mreturn\u001b[0m \u001b[0mfibSeq\u001b[0m\u001b[1;33m\u001b[0m\u001b[1;33m\u001b[0m\u001b[0m\n",
      "... last 1 frames repeated, from the frame below ...\n",
      "\u001b[1;32m<ipython-input-5-4d5d0bca6932>\u001b[0m in \u001b[0;36mmFib\u001b[1;34m(n, mArray)\u001b[0m\n\u001b[0;32m      5\u001b[0m         \u001b[1;32mreturn\u001b[0m \u001b[1;36m1\u001b[0m\u001b[1;33m\u001b[0m\u001b[1;33m\u001b[0m\u001b[0m\n\u001b[0;32m      6\u001b[0m     \u001b[1;32melse\u001b[0m\u001b[1;33m:\u001b[0m\u001b[1;33m\u001b[0m\u001b[1;33m\u001b[0m\u001b[0m\n\u001b[1;32m----> 7\u001b[1;33m         \u001b[0mfibSeq\u001b[0m \u001b[1;33m=\u001b[0m \u001b[0mmFib\u001b[0m\u001b[1;33m(\u001b[0m\u001b[0mn\u001b[0m\u001b[1;33m-\u001b[0m\u001b[1;36m1\u001b[0m\u001b[1;33m,\u001b[0m \u001b[0mmArray\u001b[0m\u001b[1;33m)\u001b[0m \u001b[1;33m+\u001b[0m \u001b[0mmFib\u001b[0m\u001b[1;33m(\u001b[0m\u001b[0mn\u001b[0m\u001b[1;33m-\u001b[0m\u001b[1;36m2\u001b[0m\u001b[1;33m,\u001b[0m \u001b[0mmArray\u001b[0m\u001b[1;33m)\u001b[0m\u001b[1;33m\u001b[0m\u001b[1;33m\u001b[0m\u001b[0m\n\u001b[0m\u001b[0;32m      8\u001b[0m     \u001b[0mmArray\u001b[0m\u001b[1;33m[\u001b[0m\u001b[0mn\u001b[0m\u001b[1;33m]\u001b[0m \u001b[1;33m=\u001b[0m \u001b[0mfibSeq\u001b[0m\u001b[1;33m\u001b[0m\u001b[1;33m\u001b[0m\u001b[0m\n\u001b[0;32m      9\u001b[0m     \u001b[1;32mreturn\u001b[0m \u001b[0mfibSeq\u001b[0m\u001b[1;33m\u001b[0m\u001b[1;33m\u001b[0m\u001b[0m\n",
      "\u001b[1;31mRecursionError\u001b[0m: maximum recursion depth exceeded in comparison"
     ]
    }
   ],
   "source": [
    "fibMArray(4000)\n",
    "#This is meant to create an error, because even though we are using memoization, there are still too many recursive functions being called which has cause this code to error out."
   ]
  },
  {
   "cell_type": "code",
   "execution_count": 9,
   "metadata": {},
   "outputs": [],
   "source": [
    "def B_UFib(n):\n",
    "    if n==1 or n==2:\n",
    "        return 1\n",
    "    B_UArray = [None] * (n+1)\n",
    "    B_UArray[1] = 1\n",
    "    B_UArray[2] = 1\n",
    "    for i in range(3, n+1):\n",
    "        B_UArray[i] = B_UArray[i-1] + B_UArray[i-2]\n",
    "    return B_UArray[n]"
   ]
  },
  {
   "cell_type": "code",
   "execution_count": 10,
   "metadata": {},
   "outputs": [
    {
     "data": {
      "text/plain": [
       "1"
      ]
     },
     "execution_count": 10,
     "metadata": {},
     "output_type": "execute_result"
    }
   ],
   "source": [
    "B_UFib(1)"
   ]
  },
  {
   "cell_type": "code",
   "execution_count": 11,
   "metadata": {},
   "outputs": [
    {
     "data": {
      "text/plain": [
       "9227465"
      ]
     },
     "execution_count": 11,
     "metadata": {},
     "output_type": "execute_result"
    }
   ],
   "source": [
    "B_UFib(35)"
   ]
  },
  {
   "cell_type": "code",
   "execution_count": 21,
   "metadata": {
    "collapsed": true,
    "jupyter": {
     "outputs_hidden": true
    },
    "tags": []
   },
   "outputs": [
    {
     "data": {
      "text/plain": [
       "39909473435004422792081248094960912600792570982820257852628876326523051818641373433549136769424132442293969306537520118273879628025443235370362250955435654171592897966790864814458223141914272590897468472180370639695334449662650312874735560926298246249404168309064214351044459077749425236777660809226095151852052781352975449482565838369809183771787439660825140502824343131911711296392457138867486593923544177893735428602238212249156564631452507658603400012003685322984838488962351492632577755354452904049241294565662519417235020049873873878602731379207893212335423484873469083054556329894167262818692599815209582517277965059068235543139459375028276851221435815957374273143824422909416395375178739268544368126894240979135322176080374780998010657710775625856041594078495411724236560242597759185543824798332467919613598667003025993715274875"
      ]
     },
     "execution_count": 21,
     "metadata": {},
     "output_type": "execute_result"
    }
   ],
   "source": [
    "B_UFib(4000)"
   ]
  },
  {
   "cell_type": "markdown",
   "metadata": {
    "id": "VXEn-1oj8CG_"
   },
   "source": [
    "### Rod Cutting Problem\n",
    "Example 2: The Rod Cutting Problem is basic. There is n length of a rod. The seller is wanting to maximize \n",
    "profit. For each length of n there can be a price of i that can represent each length. The seller \n",
    "wants to know what the optimal price is. Should they cut the rod into pieces or sell the rod as it \n",
    "is. \n"
   ]
  },
  {
   "cell_type": "markdown",
   "metadata": {
    "tags": []
   },
   "source": [
    "![Rod Cutting Tree](img/RodCuttingEx3.jpg)\n",
    "\n",
    "**Figure 1:** Rod Cutting Example"
   ]
  },
  {
   "cell_type": "markdown",
   "metadata": {},
   "source": [
    "Example: Let’s say the seller has a rod with the length of 3. The price for i1 is 2 dollars, i2 is 5 dollars, and i3 is 6 dollars.\n",
    "\n",
    "If the seller wanted to cut the rod into 3 lengths of 1 then each rod would equal 2 dollars each making \n",
    "the profit 6 dollars. This would be equal to the price of the rod if it was not cut at all. If the seller were to cut \n",
    "the rod at a length of 1 and a length of 2, the seller can sell the rod at the price of 7 dollars instead of \n",
    "6 dollars. \n",
    "\n",
    "The rod at the length of three is very easy to compute, but as the bigger the rod gets in length the \n",
    "more complicated it becomes to solve. Therefore, it is imperative that in a dynamic program \n",
    "problem like the Rod Cutting Problem are optimized because if not it can drastically slow down \n",
    "the time complexity.\n",
    "\n",
    "Below is an example of a recursive function. "
   ]
  },
  {
   "cell_type": "code",
   "execution_count": 13,
   "metadata": {
    "tags": []
   },
   "outputs": [],
   "source": [
    "import sys #This is used to call max = -inf"
   ]
  },
  {
   "cell_type": "code",
   "execution_count": 14,
   "metadata": {},
   "outputs": [],
   "source": [
    "#Recursive function\n",
    "def RodCutting(length, price):\n",
    "    \n",
    "    if length == 0:\n",
    "        return 0\n",
    "\n",
    "    maxValue = -sys.maxsize\n",
    "\n",
    "    for i in range(1, length + 1):\n",
    "\n",
    "        cost = price[i - 1] + RodCutting(length - i, price)\n",
    "\n",
    "        if cost > maxValue:\n",
    "            maxValue = cost\n",
    "\n",
    "    return maxValue"
   ]
  },
  {
   "cell_type": "markdown",
   "metadata": {
    "id": "mbMCC1ZMZAHk"
   },
   "source": [
    "### Time complexity is $ O (n^n) $"
   ]
  },
  {
   "cell_type": "code",
   "execution_count": 15,
   "metadata": {
    "tags": []
   },
   "outputs": [
    {
     "name": "stdout",
     "output_type": "stream",
     "text": [
      "Maximum profit for rod is:  7\n"
     ]
    }
   ],
   "source": [
    "print('Maximum profit for rod is: ', RodCutting(3, [2, 5, 6]))"
   ]
  },
  {
   "cell_type": "code",
   "execution_count": 16,
   "metadata": {},
   "outputs": [
    {
     "name": "stdout",
     "output_type": "stream",
     "text": [
      "Maximum profit for rod is:  20\n"
     ]
    }
   ],
   "source": [
    "print('Maximum profit for rod is: ', RodCutting(10, [2, 4, 5, 6, 7, 8, 9, 10, 12, 15]))"
   ]
  },
  {
   "cell_type": "markdown",
   "metadata": {},
   "source": [
    "![Rod Cutting Recursion Tree](img/RodCuttingRt3.jpg)"
   ]
  },
  {
   "cell_type": "markdown",
   "metadata": {},
   "source": [
    "Above is a recursion tree with the length of 3. Each number represents a subproblem and it clearly shows that the recursion funtion is overlapping the subproblems.\n",
    "\n",
    "Below is another example of a recursion tree. Again, the subproblems are overlapping, but the number of times it needs to run a subproblem is increasing by $n^2 $."
   ]
  },
  {
   "cell_type": "markdown",
   "metadata": {},
   "source": [
    "![Recursion Tree](img/RTFour.jpg)\n",
    "\n",
    "**Figure 2:** Recursion Tree with a length = 4."
   ]
  },
  {
   "cell_type": "markdown",
   "metadata": {},
   "source": [
    "Below is the bottom-up approach. Like memoization this uses an array to store our recursive and adds for loops to quickly run the function."
   ]
  },
  {
   "cell_type": "code",
   "execution_count": 22,
   "metadata": {
    "tags": []
   },
   "outputs": [],
   "source": [
    "#Bottom-Up function\n",
    "def BotUpRodCutting(length, price):\n",
    " \n",
    "    arr = [0] * (length + 1)\n",
    " \n",
    "    \n",
    "    for i in range(1, length + 1):\n",
    "        for j in range(1, i + 1):\n",
    "            arr[i] = max(arr[i], price[j - 1] + arr[i - j])\n",
    " \n",
    "    \n",
    "    return arr[length]\n",
    " \n",
    "    return maxValue\n",
    " "
   ]
  },
  {
   "cell_type": "code",
   "execution_count": 23,
   "metadata": {},
   "outputs": [
    {
     "name": "stdout",
     "output_type": "stream",
     "text": [
      "Maximum profit for rod is  7\n"
     ]
    }
   ],
   "source": [
    "print('Maximum profit for rod is ', BotUpRodCutting(3, [2, 5, 6]))"
   ]
  },
  {
   "cell_type": "markdown",
   "metadata": {
    "id": "mbMCC1ZMZAHk"
   },
   "source": [
    "### Time complexity is $ O (n^2) $"
   ]
  },
  {
   "cell_type": "markdown",
   "metadata": {},
   "source": [
    "![Recursion Tree](img/RTFourBU.jpg)\n",
    "\n",
    "**Figure 2:** Bottum-Up Tree with a length = 4."
   ]
  },
  {
   "cell_type": "markdown",
   "metadata": {},
   "source": [
    "Finally, base on the image above, the run time is reduced significantly because now it the recursive subproblems are only being ran once, because they are now being stored into memory and the program can just go back an review the subproblem that are now stored in an array."
   ]
  },
  {
   "cell_type": "markdown",
   "metadata": {
    "id": "UCeUiE8j8Ngm"
   },
   "source": [
    "### Matrix Chain\n",
    "Example 3:"
   ]
  },
  {
   "cell_type": "markdown",
   "metadata": {
    "id": "fb2uZl1q_LR_"
   },
   "source": [
    "## References\n",
    "\n",
    "Cormen, Thomas H., et al. Introduction to Algorithms. 3rd ed., Massachusetts Institute of Technology, 2009, pp. 30-413.\n",
    "\n",
    "Uploaded by CS Dojo. “What Is Dynamic Programming and How to Use It.” YouTube.com, YouTube(Owned by Google), 13 Dec. 2017, www.youtube.com/watch?v=vYquumk4nWw.\n",
    "The channel owner of \"CS Dojo\" has not fully released his name most likely for privacy reasons.\n",
    "\n",
    "“Cutting a Rod: DP-13.” GeeksforGeeks, GeeksforGeeks, 8 Oct. 2021, https://www.geeksforgeeks.org/cutting-a-rod-dp-13/.\n",
    "\n",
    "“Difference between Bottom-up Model and Top-down Model.” GeeksforGeeks, GeeksforGeeks, 22 Oct. 2020, https://www.geeksforgeeks.org/difference-between-bottom-up-model-and-top-down-model/.\n",
    "\n",
    "Dreyfus, Stuart. “RICHARD BELLMAN ON THE BIRTH OF DYNAMIC PROGRAMMING.” Operations Research, vol. 50, no. 1, INFORMS, 2002, pp. 48–51.\n",
    "\n",
    "“Dynamic Programming - GeeksforGeeks.” GeeksforGeeks, www.geeksforgeeks.org/dynamic-programming/. Accessed 16 Sept. 2021.\n",
    "\n",
    "“Rod Cutting Problem.” Techie Delight, 29 Sept. 2021, https://www.techiedelight.com/rod-cutting/. Accessed 10 Oct. 2021."
   ]
  },
  {
   "cell_type": "markdown",
   "metadata": {
    "id": "DGC5WaH4Y98C"
   },
   "source": [
    "## Problems"
   ]
  },
  {
   "cell_type": "markdown",
   "metadata": {},
   "source": [
    "1. In python, write the meomized version of the rod cutting problem.\n",
    "\n",
    "Pseudo code example:\n",
    "    \n",
    "    MemoizedRodCutting(n,p)\n",
    "    1. Let r[0... n] be a new array\n",
    "    2. for i = 0 to n\n",
    "    3.     r[i] = -infinity\n",
    "    4. return MemoizedCutRod(n,p,r)\n",
    "    \n",
    "    MemoizedCutRodFun(n,p,r)\n",
    "    1. if r[n] >= 0\n",
    "    2.    return r[n]\n",
    "    3. if n == 0\n",
    "    4.      q == 0\n",
    "    5. else q = -infinity\n",
    "    6.      for i = 1 to n\n",
    "    7.          q = max(q, p[i] + MemoizedCutRodFun(n - i,p,r))\n",
    "    8. r[n] = q\n",
    "    9. return q\n",
    "\n",
    "(Cormen 365-266)."
   ]
  },
  {
   "cell_type": "markdown",
   "metadata": {
    "id": "pz5xCYtbZCGZ"
   },
   "source": [
    "## Project Idea"
   ]
  },
  {
   "cell_type": "markdown",
   "metadata": {
    "id": "LrBCw5_-ZJFK"
   },
   "source": []
  },
  {
   "cell_type": "markdown",
   "metadata": {
    "id": "C8i0wsUKijeP"
   },
   "source": [
    "### Authors"
   ]
  },
  {
   "cell_type": "markdown",
   "metadata": {
    "id": "rajid0PdipzE"
   },
   "source": [
    "Principal authors of this chapter were: [N.C.Jacob](https://github.com/nurfnick), [B.Roy](https://github.com/roybibek), [D.L.Castaneda](https://github.com/DannyCR7XD), & [T.A.Wood](https://github.com/Skurmes)\n",
    "\n",
    "Contributions were made by:"
   ]
  },
  {
   "cell_type": "code",
   "execution_count": null,
   "metadata": {},
   "outputs": [],
   "source": []
  }
 ],
 "metadata": {
  "colab": {
   "authorship_tag": "ABX9TyNmxRjaminuBl2bOO8dGI+8",
   "include_colab_link": true,
   "name": "Untitled30.ipynb",
   "provenance": []
  },
  "kernelspec": {
   "display_name": "Python 3",
   "language": "python",
   "name": "python3"
  },
  "language_info": {
   "codemirror_mode": {
    "name": "ipython",
    "version": 3
   },
   "file_extension": ".py",
   "mimetype": "text/x-python",
   "name": "python",
   "nbconvert_exporter": "python",
   "pygments_lexer": "ipython3",
   "version": "3.8.8"
  }
 },
 "nbformat": 4,
 "nbformat_minor": 4
}
