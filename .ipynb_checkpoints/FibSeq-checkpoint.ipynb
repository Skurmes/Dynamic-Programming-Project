{
 "cells": [
  {
   "cell_type": "code",
   "execution_count": 1,
   "id": "d5f2b0b5-b77a-4371-a795-5553a3ee48f4",
   "metadata": {},
   "outputs": [],
   "source": [
    "def fib(n):\n",
    "    if n==1 or n==2:\n",
    "        return 1\n",
    "    else:\n",
    "        fibSeq = fib(n-1) + fib(n-2)\n",
    "    return fibSeq\n",
    "        "
   ]
  },
  {
   "cell_type": "code",
   "execution_count": 2,
   "id": "b8a307f1-d811-4438-b20d-813b18d464ed",
   "metadata": {},
   "outputs": [
    {
     "data": {
      "text/plain": [
       "1"
      ]
     },
     "execution_count": 2,
     "metadata": {},
     "output_type": "execute_result"
    }
   ],
   "source": [
    "fib(1)"
   ]
  },
  {
   "cell_type": "code",
   "execution_count": 3,
   "id": "661400d0-5663-4f56-99f5-650cd9810502",
   "metadata": {},
   "outputs": [
    {
     "data": {
      "text/plain": [
       "6765"
      ]
     },
     "execution_count": 3,
     "metadata": {},
     "output_type": "execute_result"
    }
   ],
   "source": [
    "fib(20)"
   ]
  },
  {
   "cell_type": "code",
   "execution_count": null,
   "id": "d33b2383-c826-46e1-99d4-de6feee96ebb",
   "metadata": {},
   "outputs": [],
   "source": [
    "fib(35)"
   ]
  },
  {
   "cell_type": "code",
   "execution_count": null,
   "id": "d39e3ec8-ac99-4b77-873d-eda146be1c24",
   "metadata": {},
   "outputs": [],
   "source": [
    "def mFib(n, mArray):\n",
    "    if mArray[n] is not None:\n",
    "        return mArray[n]\n",
    "    if n==1 or n==2:\n",
    "        return 1\n",
    "    else:\n",
    "        fibSeq = mFib(n-1, mArray) + mFib(n-2, mArray)\n",
    "    mArray[n] = fibSeq\n",
    "    return fibSeq\n",
    "\n",
    "def fibMArray(n):\n",
    "    mArray = [None] * (n + 1)\n",
    "    return mFib(n,mArray)"
   ]
  },
  {
   "cell_type": "code",
   "execution_count": null,
   "id": "29041899-36af-4219-b984-df57d149007f",
   "metadata": {},
   "outputs": [],
   "source": [
    "fibMArray(35)"
   ]
  },
  {
   "cell_type": "code",
   "execution_count": null,
   "id": "ee6e9780-d71f-40dd-8285-911c97e26b18",
   "metadata": {},
   "outputs": [],
   "source": [
    "fibMArray(400)"
   ]
  },
  {
   "cell_type": "code",
   "execution_count": null,
   "id": "445c5924-1e25-40ae-8d8e-401a956e8635",
   "metadata": {},
   "outputs": [],
   "source": [
    "fibMArray(4000)"
   ]
  },
  {
   "cell_type": "code",
   "execution_count": null,
   "id": "cbd1368f-f68a-45eb-8f6b-e393f7b08b68",
   "metadata": {},
   "outputs": [],
   "source": [
    "def B_UFib(n):\n",
    "    if n==1 or n==2:\n",
    "        return 1\n",
    "    B_UArray = [None] * (n+1)\n",
    "    B_UArray[1] = 1\n",
    "    B_UArray[2] = 1\n",
    "    for i in range(3, n+1):\n",
    "        B_UArray[i] = B_UArray[i-1] + B_UArray[i-2]\n",
    "    return B_UArray[n]"
   ]
  },
  {
   "cell_type": "code",
   "execution_count": null,
   "id": "40f581d4-d66f-45d1-a126-a25e9cfb3f9f",
   "metadata": {},
   "outputs": [],
   "source": [
    "B_UFib(1)"
   ]
  },
  {
   "cell_type": "code",
   "execution_count": null,
   "id": "ce95395c-b62d-4087-9686-0dd81a6a7340",
   "metadata": {},
   "outputs": [],
   "source": [
    "B_UFib(35)"
   ]
  },
  {
   "cell_type": "code",
   "execution_count": null,
   "id": "2e1c3a2f-d655-4d49-8276-6ba4016309d9",
   "metadata": {},
   "outputs": [],
   "source": [
    "B_UFib(4000)"
   ]
  },
  {
   "cell_type": "code",
   "execution_count": null,
   "id": "0d7fcb1c-7203-427c-8633-ef30ab0ff850",
   "metadata": {},
   "outputs": [],
   "source": []
  }
 ],
 "metadata": {
  "kernelspec": {
   "display_name": "Python 3",
   "language": "python",
   "name": "python3"
  },
  "language_info": {
   "codemirror_mode": {
    "name": "ipython",
    "version": 3
   },
   "file_extension": ".py",
   "mimetype": "text/x-python",
   "name": "python",
   "nbconvert_exporter": "python",
   "pygments_lexer": "ipython3",
   "version": "3.8.8"
  }
 },
 "nbformat": 4,
 "nbformat_minor": 5
}
