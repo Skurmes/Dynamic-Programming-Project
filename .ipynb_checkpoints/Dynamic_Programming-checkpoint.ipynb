{
  "nbformat": 4,
  "nbformat_minor": 0,
  "metadata": {
    "colab": {
      "name": "Dynamic Programming",
      "provenance": [],
      "authorship_tag": "ABX9TyOBkCJfsR5pw+VrK8DdEVo2",
      "include_colab_link": true
    },
    "kernelspec": {
      "name": "python3",
      "display_name": "Python 3"
    },
    "language_info": {
      "name": "python"
    }
  },
  "cells": [
    {
      "cell_type": "markdown",
      "metadata": {
        "id": "view-in-github",
        "colab_type": "text"
      },
      "source": [
        "<a href=\"https://colab.research.google.com/github/roybibek/Dynamic-Programming-Project/blob/main/Dynamic_Programming.ipynb\" target=\"_parent\"><img src=\"https://colab.research.google.com/assets/colab-badge.svg\" alt=\"Open In Colab\"/></a>"
      ]
    },
    {
      "cell_type": "code",
      "metadata": {
        "colab": {
          "base_uri": "https://localhost:8080/"
        },
        "id": "yW8xFOalwhER",
        "outputId": "ebce1f56-c432-4c7b-c400-3813d1f06337"
      },
      "source": [
        "# Python program to solve\n",
        "# Gold Mine problem\n",
        " \n",
        "MAX = 100\n",
        " \n",
        "# Returns maximum amount of\n",
        "# gold that can be collected\n",
        "# when journey started from\n",
        "# first column and moves\n",
        "# allowed are right, right-up\n",
        "# and right-down\n",
        "def getMaxGold(gold, m, n):\n",
        " \n",
        "    # Create a table for storing\n",
        "    # intermediate results\n",
        "    # and initialize all cells to 0.\n",
        "    # The first row of\n",
        "    # goldMineTable gives the\n",
        "    # maximum gold that the miner\n",
        "    # can collect when starts that row\n",
        "    goldTable = [[0 for i in range(n)]\n",
        "                        for j in range(m)]\n",
        " \n",
        "    for col in range(n-1, -1, -1):\n",
        "        for row in range(m):\n",
        " \n",
        "            # Gold collected on going to\n",
        "            # the cell on the rigth(->)\n",
        "            if (col == n-1):\n",
        "                right = 0\n",
        "            else:\n",
        "                right = goldTable[row][col+1]\n",
        " \n",
        "            # Gold collected on going to\n",
        "            # the cell to right up (/)\n",
        "            if (row == 0 or col == n-1):\n",
        "                right_up = 0\n",
        "            else:\n",
        "                right_up = goldTable[row-1][col+1]\n",
        " \n",
        "            # Gold collected on going to\n",
        "            # the cell to right down (\\)\n",
        "            if (row == m-1 or col == n-1):\n",
        "                right_down = 0\n",
        "            else:\n",
        "                right_down = goldTable[row+1][col+1]\n",
        " \n",
        "            # Max gold collected from taking\n",
        "            # either of the above 3 paths\n",
        "            goldTable[row][col] = gold[row][col] + max(right, right_up, right_down)\n",
        "                                                            \n",
        "    # The max amount of gold\n",
        "    # collected will be the max\n",
        "    # value in first column of all rows\n",
        "    res = goldTable[0][0]\n",
        "    for i in range(1, m):\n",
        "        res = max(res, goldTable[i][0])\n",
        " \n",
        "    return res\n",
        "     \n",
        "# Driver code\n",
        "gold = [[1, 3, 1, 5],\n",
        "    [2, 2, 4, 1],\n",
        "    [5, 0, 2, 3],\n",
        "    [0, 6, 1, 2]]\n",
        " \n",
        "m = 4\n",
        "n = 4\n",
        " \n",
        "print(getMaxGold(gold, m, n))"
      ],
      "execution_count": 1,
      "outputs": [
        {
          "output_type": "stream",
          "name": "stdout",
          "text": [
            "16\n"
          ]
        }
      ]
    },
    {
      "cell_type": "code",
      "metadata": {
        "id": "GT6ZY7jkw-Fy"
      },
      "source": [
        ""
      ],
      "execution_count": null,
      "outputs": []
    }
  ]
}