{
 "cells": [
  {
   "cell_type": "markdown",
   "metadata": {},
   "source": [
    "\n",
    "# Chapter Title\n",
    "Introduction/Motivation\n",
    "Theory\n",
    "Use bold for terms that you are defining.\n",
    "\n",
    "Examples\n",
    "Example 1\n",
    "Example 2\n",
    "References\n",
    "How to Solve It G. Polya Second Edition Princeton University Press 1957\n",
    "\n",
    "Thinking Mathematically J. Mason Addison-Wesley Publishing Company 1985\n",
    "\n",
    "Grit: The Power of Passion and Perseverance A. Duckworth ‎ Scribner Book Company 2016\n",
    "\n",
    "Problems"
   ]
  },
  {
   "cell_type": "code",
   "execution_count": null,
   "metadata": {},
   "outputs": [],
   "source": []
  },
  {
   "cell_type": "markdown",
   "metadata": {
    "tags": []
   },
   "source": [
    "Project Idea\n",
    "Authors\n",
    "Principal authors of this chapter were: N.C.Jacob, but you!\n",
    "\n",
    "Contributions were made by:"
   ]
  },
  {
   "cell_type": "code",
   "execution_count": null,
   "metadata": {},
   "outputs": [],
   "source": []
  },
  {
   "cell_type": "markdown",
   "metadata": {
    "colab_type": "text",
    "id": "view-in-github"
   },
   "source": [
    "<a href=\"https://colab.research.google.com/github/roybibek/Dynamic-Programming-Project/blob/main/Dynamic_Programming.ipynb\" target=\"_parent\"><img src=\"https://colab.research.google.com/assets/colab-badge.svg\" alt=\"Open In Colab\"/></a>"
   ]
  },
  {
   "cell_type": "code",
   "execution_count": 1,
   "metadata": {
    "colab": {
     "base_uri": "https://localhost:8080/"
    },
    "id": "yW8xFOalwhER",
    "outputId": "ebce1f56-c432-4c7b-c400-3813d1f06337"
   },
   "outputs": [
    {
     "name": "stdout",
     "output_type": "stream",
     "text": [
      "16\n"
     ]
    }
   ],
   "source": [
    "# Python program to solve\n",
    "# Gold Mine problem\n",
    " \n",
    "MAX = 100\n",
    " \n",
    "# Returns maximum amount of\n",
    "# gold that can be collected\n",
    "# when journey started from\n",
    "# first column and moves\n",
    "# allowed are right, right-up\n",
    "# and right-down\n",
    "def getMaxGold(gold, m, n):\n",
    " \n",
    "    # Create a table for storing\n",
    "    # intermediate results\n",
    "    # and initialize all cells to 0.\n",
    "    # The first row of\n",
    "    # goldMineTable gives the\n",
    "    # maximum gold that the miner\n",
    "    # can collect when starts that row\n",
    "    goldTable = [[0 for i in range(n)]\n",
    "                        for j in range(m)]\n",
    " \n",
    "    for col in range(n-1, -1, -1):\n",
    "        for row in range(m):\n",
    " \n",
    "            # Gold collected on going to\n",
    "            # the cell on the rigth(->)\n",
    "            if (col == n-1):\n",
    "                right = 0\n",
    "            else:\n",
    "                right = goldTable[row][col+1]\n",
    " \n",
    "            # Gold collected on going to\n",
    "            # the cell to right up (/)\n",
    "            if (row == 0 or col == n-1):\n",
    "                right_up = 0\n",
    "            else:\n",
    "                right_up = goldTable[row-1][col+1]\n",
    " \n",
    "            # Gold collected on going to\n",
    "            # the cell to right down (\\)\n",
    "            if (row == m-1 or col == n-1):\n",
    "                right_down = 0\n",
    "            else:\n",
    "                right_down = goldTable[row+1][col+1]\n",
    " \n",
    "            # Max gold collected from taking\n",
    "            # either of the above 3 paths\n",
    "            goldTable[row][col] = gold[row][col] + max(right, right_up, right_down)\n",
    "                                                            \n",
    "    # The max amount of gold\n",
    "    # collected will be the max\n",
    "    # value in first column of all rows\n",
    "    res = goldTable[0][0]\n",
    "    for i in range(1, m):\n",
    "        res = max(res, goldTable[i][0])\n",
    " \n",
    "    return res\n",
    "     \n",
    "# Driver code\n",
    "gold = [[1, 3, 1, 5],\n",
    "    [2, 2, 4, 1],\n",
    "    [5, 0, 2, 3],\n",
    "    [0, 6, 1, 2]]\n",
    " \n",
    "m = 4\n",
    "n = 4\n",
    " \n",
    "print(getMaxGold(gold, m, n))"
   ]
  },
  {
   "cell_type": "code",
   "execution_count": null,
   "metadata": {
    "id": "GT6ZY7jkw-Fy"
   },
   "outputs": [],
   "source": []
  }
 ],
 "metadata": {
  "colab": {
   "authorship_tag": "ABX9TyOBkCJfsR5pw+VrK8DdEVo2",
   "include_colab_link": true,
   "name": "Dynamic Programming",
   "provenance": []
  },
  "kernelspec": {
   "display_name": "Python 3",
   "language": "python",
   "name": "python3"
  },
  "language_info": {
   "codemirror_mode": {
    "name": "ipython",
    "version": 3
   },
   "file_extension": ".py",
   "mimetype": "text/x-python",
   "name": "python",
   "nbconvert_exporter": "python",
   "pygments_lexer": "ipython3",
   "version": "3.8.8"
  }
 },
 "nbformat": 4,
 "nbformat_minor": 4
}
