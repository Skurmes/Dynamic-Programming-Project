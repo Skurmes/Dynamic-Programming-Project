{
 "cells": [
  {
   "cell_type": "markdown",
   "metadata": {
    "colab_type": "text",
    "id": "view-in-github"
   },
   "source": [
    "<a href=\"https://colab.research.google.com/github/roybibek/Dynamic-Programming-Project/blob/main/Memoization.ipynb\" target=\"_parent\"><img src=\"https://colab.research.google.com/assets/colab-badge.svg\" alt=\"Open In Colab\"/></a>"
   ]
  },
  {
   "cell_type": "markdown",
   "metadata": {
    "id": "zNupkFXRmahf"
   },
   "source": [
    "# MEMOIZATION APPROACH"
   ]
  },
  {
   "cell_type": "markdown",
   "metadata": {
    "id": "eB7Q2pQ_mtm6"
   },
   "source": [
    "  Prevents continous solving of the same recursive sub-problems by creating a 'sticky note' like save-state per inputs to be called for later calculations.This programming technique takes advantage of the CPU's cache and stores those more time-consuming calculations to later be used when called on throughout the solutions(\"Matrix Chain Multiplication Using\").\n",
    "\n",
    "\n",
    "  Memoization should only be used for recursive calculations that when requesting an output it will stay consistent each time calculations are executed. If not, the programmer would lose its effieceny and gained advantages as memoization would in the end take up more cpu cycle times in order to verify its cache stored data in verifying whether the output would be the same or not. Global variables would also grealty influence or break a memoized function. A different algorithm would be much more acceptable (Cormen 389).\n"
   ]
  },
  {
   "cell_type": "markdown",
   "metadata": {
    "id": "rtQh_8bSnP4_"
   },
   "source": [
    "#MATRIX CHAIN MULTIPLICATION\n",
    "\n",
    "OBECTIVE: To efficiently calculate a sequence of matrices \n",
    "\n",
    "SIDE-NOTE: Not focusing on the multiplication itself but more for finding the best route to make the calculations. In some problems, where you put parantheses can either minimize or maximize the amount of operations needed to find a solution(Cormen 388)."
   ]
  },
  {
   "cell_type": "markdown",
   "metadata": {
    "id": "SdWFmFbimvLv"
   },
   "source": [
    "#PROBLEM IN QUESTION: PART ONE\n",
    "\n",
    "ABCD = A(BCD) = (AB)(CD) = (AD)(BC) = ALL PRODUCE SAME OUTPUT\n",
    "\n",
    "A = 10 x 20\n",
    "B = 20 x 30\n",
    "C = 30 x 40\n",
    "D = 40 x 60\n",
    "\n",
    "\n",
    "*EXAMPLE* Here I would like to demonstrate the difference in number of operations needed when you change up the sequence in which you attempt to calculate the matrices. \n",
    "\n",
    "(AB)C -> (10 x 20 x 30) + (10 x 30 x 40) = 6000 + 12,000 = 18,000 operations {10, 20, 30, 40}\n",
    "\n",
    "A(BC) -> (20 x 30 x 40) + (10 x 20 x 40) =  24,000 + 8,000 = 32,000 operations {10, 40, 40, 40}\n",
    "\n",
    "Calculating (AB)C would take almost half the time of calculating A(BC)  "
   ]
  },
  {
   "cell_type": "code",
   "execution_count": 14,
   "metadata": {
    "colab": {
     "base_uri": "https://localhost:8080/"
    },
    "id": "A6t0A_FKmz0k",
    "outputId": "e488e9d9-d12e-4bcb-de5a-3cae925c9d5a"
   },
   "outputs": [
    {
     "name": "stdout",
     "output_type": "stream",
     "text": [
      "Enter how many elements : 3\n",
      "\n",
      "Enter Matrices: 10 20 30\n",
      "\n",
      "Minimum number of operations for Matrices entered is 6000\n",
      "\n",
      "Minimum number of operations possible:  18000\n"
     ]
    }
   ],
   "source": [
    "#To show operations needed for certain sequence of matrices\n",
    "import sys\n",
    "  \n",
    "def MtxChainOrder(p, n):\n",
    "    m = [[0 for x in range(n)] for x in range(n)]\n",
    "  \n",
    "    for i in range(1, n):\n",
    "        m[i][i] = 0\n",
    "  \n",
    "    for Lst in range(2, n):\n",
    "        for i in range(1, n-Lst + 1):\n",
    "            j = i + Lst-1\n",
    "            m[i][j] = sys.maxsize\n",
    "            for k in range(i, j):\n",
    "  \n",
    "                q = m[i][k] + m[k + 1][j] + p[i-1]*p[k]*p[j]\n",
    "                if q < m[i][j]:\n",
    "                    m[i][j] = q\n",
    "  \n",
    "    return m[1][n-1]\n",
    "\n",
    "ele = int(input(\"Enter how many elements : \"))\n",
    "lst = list(map(int,input(\"\\nEnter Matrices: \").strip().split()))[:ele]\n",
    "size = len(lst)\n",
    "\n",
    "\n",
    "print(\"\\nMinimum number of operations for Matrices entered is \" +\n",
    "       str(MtxChainOrder(lst, size)))\n",
    "\n",
    "#To represent ideal sequence for most efficient calculation \n",
    "array = [10, 20, 30, 40]\n",
    "size2 = len(array)\n",
    "\n",
    "print(\"\\nMinimum number of operations possible: \", MtxChainOrder(array, size2))"
   ]
  },
  {
   "cell_type": "markdown",
   "metadata": {
    "id": "-lF0y4Vbm_v6"
   },
   "source": [
    "#TIME COMPLEXITY:  $ O(n^3) $"
   ]
  },
  {
   "cell_type": "markdown",
   "metadata": {
    "id": "FVyLtPnlqQQA"
   },
   "source": [
    "# Refrences\n",
    "\n",
    "-“Dynamic Programming - GeeksforGeeks.” GeeksforGeeks, https://www.\n",
    "geeksforgeeks.org/dynamic-programming/. Accessed 16 Sept. 2021.\n",
    "\n",
    "-Uploaded by CS Dojo. “What Is Dynamic Programming and How to Use It.” YouTube.com, YouTube(Owned by Google), 13 Dec. 2017, www.youtube.com/watch?v=vYquumk4nWw.\n",
    "\n",
    "-“Matrix Chain Multiplication Using Dynamic Programming.” Techie Delight, 29 Sept. 2021, https://www.techiedelight.com/matrix-chain-multiplication/. \n",
    "\n",
    "-Cormen, Thomas H., et al. Introduction to Algorithms. 3rd ed., Massachusetts Institute of Technology, 2009, Memoization, pp. 387-389."
   ]
  }
 ],
 "metadata": {
  "colab": {
   "authorship_tag": "ABX9TyMcA/8T5QjfQGbRzJYuW/Wx",
   "collapsed_sections": [],
   "include_colab_link": true,
   "name": "Memoization",
   "provenance": []
  },
  "kernelspec": {
   "display_name": "Python 3",
   "language": "python",
   "name": "python3"
  },
  "language_info": {
   "codemirror_mode": {
    "name": "ipython",
    "version": 3
   },
   "file_extension": ".py",
   "mimetype": "text/x-python",
   "name": "python",
   "nbconvert_exporter": "python",
   "pygments_lexer": "ipython3",
   "version": "3.8.8"
  }
 },
 "nbformat": 4,
 "nbformat_minor": 4
}
